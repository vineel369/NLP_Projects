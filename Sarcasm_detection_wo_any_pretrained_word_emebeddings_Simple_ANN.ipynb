{
  "nbformat": 4,
  "nbformat_minor": 0,
  "metadata": {
    "colab": {
      "name": "Sarcasm_detection_wo_any_pretrained_word_emebeddings_Simple_ANN.ipynb",
      "provenance": [],
      "collapsed_sections": [],
      "toc_visible": true
    },
    "kernelspec": {
      "name": "python3",
      "display_name": "Python 3"
    },
    "accelerator": "GPU"
  },
  "cells": [
    {
      "cell_type": "code",
      "metadata": {
        "id": "nscNPLHFPe-s",
        "colab_type": "code",
        "colab": {
          "base_uri": "https://localhost:8080/",
          "height": 35
        },
        "outputId": "df606d65-9b1d-4a12-ae85-38f9cbd76caf"
      },
      "source": [
        "import tensorflow as tf\n",
        "import numpy as np\n",
        "import json\n",
        "import re\n",
        "import string\n",
        "\n",
        "from tensorflow import keras\n",
        "from keras.preprocessing.text import Tokenizer\n",
        "from keras.preprocessing.sequence import pad_sequences\n",
        "\n",
        "import matplotlib.pyplot as plt\n",
        "\n",
        "tf.__version__"
      ],
      "execution_count": 27,
      "outputs": [
        {
          "output_type": "execute_result",
          "data": {
            "application/vnd.google.colaboratory.intrinsic+json": {
              "type": "string"
            },
            "text/plain": [
              "'2.3.0'"
            ]
          },
          "metadata": {
            "tags": []
          },
          "execution_count": 27
        }
      ]
    },
    {
      "cell_type": "code",
      "metadata": {
        "id": "kWZNVjGAQLRL",
        "colab_type": "code",
        "colab": {
          "base_uri": "https://localhost:8080/",
          "height": 228
        },
        "outputId": "34b9ce00-da2a-48b0-b679-72739564da89"
      },
      "source": [
        "#used google colab\n",
        "!wget --no-check-certificate \\\n",
        "    https://storage.googleapis.com/laurencemoroney-blog.appspot.com/sarcasm.json \\\n",
        "    -O /tmp/sarcasm.json"
      ],
      "execution_count": 15,
      "outputs": [
        {
          "output_type": "stream",
          "text": [
            "--2020-09-14 11:08:13--  https://storage.googleapis.com/laurencemoroney-blog.appspot.com/sarcasm.json\n",
            "Resolving storage.googleapis.com (storage.googleapis.com)... 74.125.143.128, 173.194.69.128, 108.177.119.128, ...\n",
            "Connecting to storage.googleapis.com (storage.googleapis.com)|74.125.143.128|:443... connected.\n",
            "HTTP request sent, awaiting response... 200 OK\n",
            "Length: 5643545 (5.4M) [application/json]\n",
            "Saving to: ‘/tmp/sarcasm.json’\n",
            "\n",
            "/tmp/sarcasm.json   100%[===================>]   5.38M  21.5MB/s    in 0.3s    \n",
            "\n",
            "2020-09-14 11:08:15 (21.5 MB/s) - ‘/tmp/sarcasm.json’ saved [5643545/5643545]\n",
            "\n"
          ],
          "name": "stdout"
        }
      ]
    },
    {
      "cell_type": "code",
      "metadata": {
        "id": "mbDtX32zTksh",
        "colab_type": "code",
        "colab": {}
      },
      "source": [
        "with open(\"/tmp/sarcasm.json\", 'r') as f:\n",
        "  data = json.load(f)"
      ],
      "execution_count": 16,
      "outputs": []
    },
    {
      "cell_type": "code",
      "metadata": {
        "id": "4QOaOqnQUIyj",
        "colab_type": "code",
        "colab": {
          "base_uri": "https://localhost:8080/",
          "height": 55
        },
        "outputId": "b297f8de-0ab6-437a-ea0b-1a55979e53bd"
      },
      "source": [
        "for item in data:\n",
        "  print(item)\n",
        "  break"
      ],
      "execution_count": 17,
      "outputs": [
        {
          "output_type": "stream",
          "text": [
            "{'article_link': 'https://www.huffingtonpost.com/entry/versace-black-code_us_5861fbefe4b0de3a08f600d5', 'headline': \"former versace store clerk sues over secret 'black code' for minority shoppers\", 'is_sarcastic': 0}\n"
          ],
          "name": "stdout"
        }
      ]
    },
    {
      "cell_type": "code",
      "metadata": {
        "id": "CpnvssPtUghg",
        "colab_type": "code",
        "colab": {}
      },
      "source": [
        "sentences = []\n",
        "labels = []\n",
        "\n",
        "for item in data:\n",
        "  sentences.append(item['headline'])\n",
        "  labels.append(item['is_sarcastic'])"
      ],
      "execution_count": 18,
      "outputs": []
    },
    {
      "cell_type": "code",
      "metadata": {
        "id": "ttGQDz3ZV-Yf",
        "colab_type": "code",
        "colab": {
          "base_uri": "https://localhost:8080/",
          "height": 35
        },
        "outputId": "9b7a2461-95d7-4cee-84b1-5b96f827d5cb"
      },
      "source": [
        "len(sentences)"
      ],
      "execution_count": 19,
      "outputs": [
        {
          "output_type": "execute_result",
          "data": {
            "text/plain": [
              "26709"
            ]
          },
          "metadata": {
            "tags": []
          },
          "execution_count": 19
        }
      ]
    },
    {
      "cell_type": "markdown",
      "metadata": {
        "id": "whs_6gfiWD7e",
        "colab_type": "text"
      },
      "source": [
        "Total no.of examples are 26709. \n",
        "\n",
        "Let's split the dataset into training & test set, by considering some training size"
      ]
    },
    {
      "cell_type": "code",
      "metadata": {
        "id": "0DKAPIM7WA1A",
        "colab_type": "code",
        "colab": {}
      },
      "source": [
        "training_size = 20000\n",
        "\n",
        "train_data = sentences[0:training_size]\n",
        "test_data = sentences[training_size:]\n",
        "\n",
        "train_labels = labels[0:training_size]\n",
        "test_labels = labels[training_size:]"
      ],
      "execution_count": 20,
      "outputs": []
    },
    {
      "cell_type": "code",
      "metadata": {
        "id": "sZk59N-0YV0v",
        "colab_type": "code",
        "colab": {
          "base_uri": "https://localhost:8080/",
          "height": 364
        },
        "outputId": "1f560115-98aa-4ac9-923e-6d2a854ebf64"
      },
      "source": [
        "train_data[:20]"
      ],
      "execution_count": 22,
      "outputs": [
        {
          "output_type": "execute_result",
          "data": {
            "text/plain": [
              "[\"former versace store clerk sues over secret 'black code' for minority shoppers\",\n",
              " \"the 'roseanne' revival catches up to our thorny political mood, for better and worse\",\n",
              " \"mom starting to fear son's web series closest thing she will have to grandchild\",\n",
              " 'boehner just wants wife to listen, not come up with alternative debt-reduction ideas',\n",
              " 'j.k. rowling wishes snape happy birthday in the most magical way',\n",
              " \"advancing the world's women\",\n",
              " 'the fascinating case for eating lab-grown meat',\n",
              " 'this ceo will send your kids to school, if you work for his company',\n",
              " 'top snake handler leaves sinking huckabee campaign',\n",
              " \"friday's morning email: inside trump's presser for the ages\",\n",
              " 'airline passengers tackle man who rushes cockpit in bomb threat',\n",
              " 'facebook reportedly working on healthcare features and apps',\n",
              " \"north korea praises trump and urges us voters to reject 'dull hillary'\",\n",
              " \"actually, cnn's jeffrey lord has been 'indefensible' for a while\",\n",
              " 'barcelona holds huge protest in support of refugees',\n",
              " \"nuclear bomb detonates during rehearsal for 'spider-man' musical\",\n",
              " \"cosby lawyer asks why accusers didn't come forward to be smeared by legal team years ago\",\n",
              " 'stock analysts confused, frightened by boar market',\n",
              " \"bloomberg's program to build better cities just got bigger\",\n",
              " 'craig hicks indicted']"
            ]
          },
          "metadata": {
            "tags": []
          },
          "execution_count": 22
        }
      ]
    },
    {
      "cell_type": "code",
      "metadata": {
        "id": "1Br0ycnpYmfx",
        "colab_type": "code",
        "colab": {}
      },
      "source": [
        "def text_preprocessing(text):\n",
        "    '''\n",
        "    Make text lowercase, remove text in square brackets,remove links,remove special characters\n",
        "    and remove words containing numbers.\n",
        "    '''\n",
        "    text = text.lower()\n",
        "    text = re.sub('\\[.*?\\]', '', text)\n",
        "    text = re.sub(r\"\\'\",\"\",text) # convert firend's to friends\n",
        "    text = re.sub(\"\\\\W\",\" \",text) # remove special chars\n",
        "    text = re.sub('https?:\\S+|www.\\S+', '', text)  # remove urls \n",
        "    text = re.sub('<.*?>+', '', text)  # remove html tags\n",
        "    # text = re.sub('[^a-zA-Z]', ' ', text) #remove non alphabetical characters\n",
        "    text = re.sub('[%s]' % re.escape(string.punctuation), '', text)  #remove punctuations\n",
        "    text = re.sub('\\n', '', text)\n",
        "    text = re.sub('\\w*\\d\\w*', '', text)\n",
        "  \n",
        "    return text"
      ],
      "execution_count": 33,
      "outputs": []
    },
    {
      "cell_type": "code",
      "metadata": {
        "id": "83NDBUSoZJa_",
        "colab_type": "code",
        "colab": {}
      },
      "source": [
        "train_data_final = [text_preprocessing(sent) for sent in train_data]\n",
        "test_data_final = [text_preprocessing(sent) for sent in test_data]"
      ],
      "execution_count": 34,
      "outputs": []
    },
    {
      "cell_type": "code",
      "metadata": {
        "id": "EO_lLePAZd6x",
        "colab_type": "code",
        "colab": {
          "base_uri": "https://localhost:8080/",
          "height": 191
        },
        "outputId": "85eb13de-1682-42a4-ef66-a3e03835bd93"
      },
      "source": [
        "train_data_final[:10]"
      ],
      "execution_count": 35,
      "outputs": [
        {
          "output_type": "execute_result",
          "data": {
            "text/plain": [
              "['former versace store clerk sues over secret black code for minority shoppers',\n",
              " 'the roseanne revival catches up to our thorny political mood  for better and worse',\n",
              " 'mom starting to fear sons web series closest thing she will have to grandchild',\n",
              " 'boehner just wants wife to listen  not come up with alternative debt reduction ideas',\n",
              " 'j k  rowling wishes snape happy birthday in the most magical way',\n",
              " 'advancing the worlds women',\n",
              " 'the fascinating case for eating lab grown meat',\n",
              " 'this ceo will send your kids to school  if you work for his company',\n",
              " 'top snake handler leaves sinking huckabee campaign',\n",
              " 'fridays morning email  inside trumps presser for the ages']"
            ]
          },
          "metadata": {
            "tags": []
          },
          "execution_count": 35
        }
      ]
    },
    {
      "cell_type": "code",
      "metadata": {
        "id": "HXcsUdwAbDU6",
        "colab_type": "code",
        "colab": {}
      },
      "source": [
        "vocab_size = 10000\n",
        "oov_tok = \"<OOV>\"\n",
        "embedding_dim = 32\n",
        "max_length = 120\n",
        "trunc_type = 'post'\n",
        "pad_type = 'post'"
      ],
      "execution_count": 36,
      "outputs": []
    },
    {
      "cell_type": "code",
      "metadata": {
        "id": "60U6sMGHb87L",
        "colab_type": "code",
        "colab": {}
      },
      "source": [
        "train_labels = np.array(train_labels)\n",
        "test_labels = np.array(test_labels)"
      ],
      "execution_count": 49,
      "outputs": []
    },
    {
      "cell_type": "markdown",
      "metadata": {
        "id": "71wIBSzba4Sx",
        "colab_type": "text"
      },
      "source": [
        "##Model with preprocessed data"
      ]
    },
    {
      "cell_type": "code",
      "metadata": {
        "id": "cYgHecA2Sxkh",
        "colab_type": "code",
        "colab": {
          "base_uri": "https://localhost:8080/",
          "height": 35
        },
        "outputId": "a8abbdc3-31b7-404e-e352-0102f26cba57"
      },
      "source": [
        "tokens = Tokenizer(num_words = vocab_size, oov_token = oov_tok )\n",
        "tokens.fit_on_texts(train_data_final)\n",
        "word_index = tokens.word_index\n",
        "print(\"Length of word_index :\",len(word_index))\n",
        "\n",
        "train_sequences = tokens.texts_to_sequences(train_data_final)\n",
        "train_padded = pad_sequences(train_sequences, maxlen = max_length, padding = pad_type, truncating = trunc_type)\n",
        "\n",
        "test_sequences = tokens.texts_to_sequences(test_data_final)\n",
        "test_padded = pad_sequences(test_sequences, maxlen = max_length, padding = pad_type, truncating = trunc_type)\n"
      ],
      "execution_count": 47,
      "outputs": [
        {
          "output_type": "stream",
          "text": [
            "Length of word_index : 22488\n"
          ],
          "name": "stdout"
        }
      ]
    },
    {
      "cell_type": "code",
      "metadata": {
        "id": "VWU6fMAYVtgo",
        "colab_type": "code",
        "colab": {
          "base_uri": "https://localhost:8080/",
          "height": 72
        },
        "outputId": "221f5147-e0ff-4fc5-d6a4-12da26ec5196"
      },
      "source": [
        "reverse_word_index = dict([(value,key) for (key, value) in word_index.items()])\n",
        "\n",
        "def decode_review(text):\n",
        "  return ' '.join([reverse_word_index.get(i, '?') for i in text])\n",
        "\n",
        "print(decode_review(train_padded[3]))\n",
        "print(train_data_final[3])"
      ],
      "execution_count": 48,
      "outputs": [
        {
          "output_type": "stream",
          "text": [
            "boehner just wants wife to listen not come up with alternative debt reduction ideas ? ? ? ? ? ? ? ? ? ? ? ? ? ? ? ? ? ? ? ? ? ? ? ? ? ? ? ? ? ? ? ? ? ? ? ? ? ? ? ? ? ? ? ? ? ? ? ? ? ? ? ? ? ? ? ? ? ? ? ? ? ? ? ? ? ? ? ? ? ? ? ? ? ? ? ? ? ? ? ? ? ? ? ? ? ? ? ? ? ? ? ? ? ? ? ? ? ? ? ? ? ? ? ? ? ?\n",
            "boehner just wants wife to listen  not come up with alternative debt reduction ideas\n"
          ],
          "name": "stdout"
        }
      ]
    },
    {
      "cell_type": "code",
      "metadata": {
        "id": "RscKQA0YXB7R",
        "colab_type": "code",
        "colab": {
          "base_uri": "https://localhost:8080/",
          "height": 295
        },
        "outputId": "4b331b6d-922b-4a6a-95b3-15ed6988b520"
      },
      "source": [
        "model = keras.Sequential([\n",
        "                          keras.layers.Embedding(input_dim=vocab_size, output_dim = embedding_dim, input_length = max_length ),\n",
        "                          keras.layers.GlobalAveragePooling1D(),\n",
        "                          keras.layers.Dense(24, activation = 'relu'),\n",
        "                          keras.layers.Dense(1, activation = 'sigmoid')])\n",
        "\n",
        "model.compile(loss = 'binary_crossentropy', optimizer = 'adam', metrics = ['accuracy'])\n",
        "model.summary()"
      ],
      "execution_count": 61,
      "outputs": [
        {
          "output_type": "stream",
          "text": [
            "Model: \"sequential_4\"\n",
            "_________________________________________________________________\n",
            "Layer (type)                 Output Shape              Param #   \n",
            "=================================================================\n",
            "embedding_4 (Embedding)      (None, 120, 32)           320000    \n",
            "_________________________________________________________________\n",
            "global_average_pooling1d_3 ( (None, 32)                0         \n",
            "_________________________________________________________________\n",
            "dense_8 (Dense)              (None, 24)                792       \n",
            "_________________________________________________________________\n",
            "dense_9 (Dense)              (None, 1)                 25        \n",
            "=================================================================\n",
            "Total params: 320,817\n",
            "Trainable params: 320,817\n",
            "Non-trainable params: 0\n",
            "_________________________________________________________________\n"
          ],
          "name": "stdout"
        }
      ]
    },
    {
      "cell_type": "code",
      "metadata": {
        "id": "dk6y4Zg-idi5",
        "colab_type": "code",
        "colab": {}
      },
      "source": [
        "from tensorflow.keras.callbacks import EarlyStopping\n",
        "# Fit the model with early stopping callback\n",
        "earlystop = EarlyStopping(monitor='val_loss', min_delta=0, patience=5, verbose=0, mode='auto')"
      ],
      "execution_count": 62,
      "outputs": []
    },
    {
      "cell_type": "code",
      "metadata": {
        "id": "Q0RLfSNnZ8fT",
        "colab_type": "code",
        "colab": {
          "base_uri": "https://localhost:8080/",
          "height": 329
        },
        "outputId": "07219742-bccb-4384-a4f9-c1b311ad27e2"
      },
      "source": [
        "num_epochs = 100\n",
        "history= model.fit(x=train_padded, y=train_labels, epochs = num_epochs, batch_size = 32,\n",
        "          validation_data = (test_padded, test_labels), verbose = 2,\n",
        "          callbacks = [earlystop])"
      ],
      "execution_count": 63,
      "outputs": [
        {
          "output_type": "stream",
          "text": [
            "Epoch 1/100\n",
            "625/625 - 3s - loss: 0.6437 - accuracy: 0.6241 - val_loss: 0.5044 - val_accuracy: 0.7971\n",
            "Epoch 2/100\n",
            "625/625 - 3s - loss: 0.3938 - accuracy: 0.8407 - val_loss: 0.3780 - val_accuracy: 0.8417\n",
            "Epoch 3/100\n",
            "625/625 - 3s - loss: 0.3010 - accuracy: 0.8798 - val_loss: 0.3569 - val_accuracy: 0.8489\n",
            "Epoch 4/100\n",
            "625/625 - 3s - loss: 0.2533 - accuracy: 0.9006 - val_loss: 0.3556 - val_accuracy: 0.8460\n",
            "Epoch 5/100\n",
            "625/625 - 3s - loss: 0.2179 - accuracy: 0.9174 - val_loss: 0.3644 - val_accuracy: 0.8423\n",
            "Epoch 6/100\n",
            "625/625 - 3s - loss: 0.1933 - accuracy: 0.9266 - val_loss: 0.3690 - val_accuracy: 0.8474\n",
            "Epoch 7/100\n",
            "625/625 - 3s - loss: 0.1704 - accuracy: 0.9365 - val_loss: 0.3949 - val_accuracy: 0.8416\n",
            "Epoch 8/100\n",
            "625/625 - 3s - loss: 0.1538 - accuracy: 0.9448 - val_loss: 0.4037 - val_accuracy: 0.8462\n",
            "Epoch 9/100\n",
            "625/625 - 3s - loss: 0.1403 - accuracy: 0.9510 - val_loss: 0.4403 - val_accuracy: 0.8380\n"
          ],
          "name": "stdout"
        }
      ]
    },
    {
      "cell_type": "code",
      "metadata": {
        "id": "mwMBwB3bmoJT",
        "colab_type": "code",
        "colab": {
          "base_uri": "https://localhost:8080/",
          "height": 35
        },
        "outputId": "c7abd7c9-5f56-42b7-914f-6696dbf8ab2d"
      },
      "source": [
        "history_dict = history.history\n",
        "history_dict.keys()"
      ],
      "execution_count": 64,
      "outputs": [
        {
          "output_type": "execute_result",
          "data": {
            "text/plain": [
              "dict_keys(['loss', 'accuracy', 'val_loss', 'val_accuracy'])"
            ]
          },
          "metadata": {
            "tags": []
          },
          "execution_count": 64
        }
      ]
    },
    {
      "cell_type": "code",
      "metadata": {
        "id": "oqewEKELnJy3",
        "colab_type": "code",
        "colab": {}
      },
      "source": [
        "import matplotlib.pyplot as plt"
      ],
      "execution_count": 65,
      "outputs": []
    },
    {
      "cell_type": "code",
      "metadata": {
        "id": "LVHZtQkinA2X",
        "colab_type": "code",
        "colab": {
          "base_uri": "https://localhost:8080/",
          "height": 513
        },
        "outputId": "f4281822-3835-42f9-ee57-886d6e6b4594"
      },
      "source": [
        "acc = history_dict['accuracy']\n",
        "val_acc = history_dict['val_accuracy']\n",
        "loss = history_dict['loss']\n",
        "val_loss = history_dict['val_loss']\n",
        "\n",
        "epochs = range(1, len(acc) + 1)\n",
        "\n",
        "fig, (ax1,ax2) = plt.subplots(1, 2, figsize = (14,8)) \n",
        "\n",
        "ax1.plot(epochs, loss, 'bo', label='Training loss') # \"bo\" is for \"blue dot\"\n",
        "ax1.plot(epochs, val_loss, 'r', label='Validation loss') # r is for \"solid red line\"\n",
        "ax1.set_title('Training & Validation loss')\n",
        "ax1.set_xlabel('Epochs')\n",
        "ax1.set_ylabel('Loss')\n",
        "ax1.legend()\n",
        "\n",
        "ax2.plot(epochs, acc, 'bo', label='Training accuracy') # \"bo\" is for \"blue dot\"\n",
        "ax2.plot(epochs, val_acc, 'r', label='Validation accuracy') # r is for \"solid red line\"\n",
        "ax2.set_title('Training & Validation accuracy')\n",
        "ax2.set_xlabel('Epochs')\n",
        "ax2.set_ylabel('Loss')\n",
        "ax2.legend()\n",
        "\n",
        "plt.show()"
      ],
      "execution_count": 70,
      "outputs": [
        {
          "output_type": "display_data",
          "data": {
            "image/png": "[encoded data removed]",
            "text/plain": [
              "<Figure size 1008x576 with 2 Axes>"
            ]
          },
          "metadata": {
            "tags": [],
            "needs_background": "light"
          }
        }
      ]
    },
    {
      "cell_type": "markdown",
      "metadata": {
        "id": "c6rUXwljPDlV",
        "colab_type": "text"
      },
      "source": [
        "**Validation loss > Training loss & Validation accuracy < Training accuracy. It's a clear cut case of overfitting and we can use other techniques like Dropout or RNNs to reduce the overfitting.**"
      ]
    },
    {
      "cell_type": "markdown",
      "metadata": {
        "id": "tsHedQjwp2Qk",
        "colab_type": "text"
      },
      "source": [
        "##Model without preprocessed data"
      ]
    },
    {
      "cell_type": "code",
      "metadata": {
        "id": "lsOJssz4p9pd",
        "colab_type": "code",
        "colab": {
          "base_uri": "https://localhost:8080/",
          "height": 89
        },
        "outputId": "fdd198d9-d1fa-42e5-c178-e255228d2162"
      },
      "source": [
        "tokens_new = Tokenizer(num_words = vocab_size, oov_token = oov_tok )\n",
        "tokens_new.fit_on_texts(train_data)\n",
        "word_index_new = tokens.word_index\n",
        "print(\"Length of word_index :\",len(word_index_new))\n",
        "\n",
        "train_sequences = tokens_new.texts_to_sequences(train_data)\n",
        "train_padded_new = pad_sequences(train_sequences, maxlen = max_length, padding = pad_type, truncating = trunc_type)\n",
        "\n",
        "test_sequences = tokens_new.texts_to_sequences(test_data)\n",
        "test_padded_new = pad_sequences(test_sequences, maxlen = max_length, padding = pad_type, truncating = trunc_type)\n",
        "\n",
        "reverse_word_index_new = dict([(value,key) for (key, value) in word_index_new.items()])\n",
        "\n",
        "def decode_review_new(text):\n",
        "  return ' '.join([reverse_word_index_new.get(i, '?') for i in text])\n",
        "\n",
        "print(decode_review_new(train_padded[3]))\n",
        "print(train_data[3])"
      ],
      "execution_count": 74,
      "outputs": [
        {
          "output_type": "stream",
          "text": [
            "Length of word_index : 25637\n",
            "boehner just wants wife to listen not come up with alternative debt reduction ideas ? ? ? ? ? ? ? ? ? ? ? ? ? ? ? ? ? ? ? ? ? ? ? ? ? ? ? ? ? ? ? ? ? ? ? ? ? ? ? ? ? ? ? ? ? ? ? ? ? ? ? ? ? ? ? ? ? ? ? ? ? ? ? ? ? ? ? ? ? ? ? ? ? ? ? ? ? ? ? ? ? ? ? ? ? ? ? ? ? ? ? ? ? ? ? ? ? ? ? ? ? ? ? ? ? ?\n",
            "boehner just wants wife to listen, not come up with alternative debt-reduction ideas\n"
          ],
          "name": "stdout"
        }
      ]
    },
    {
      "cell_type": "code",
      "metadata": {
        "id": "1x3IPhjrq2aw",
        "colab_type": "code",
        "colab": {
          "base_uri": "https://localhost:8080/",
          "height": 295
        },
        "outputId": "337ba34a-06b7-444f-ddef-91b1b5eb3eee"
      },
      "source": [
        "model_new = keras.Sequential([\n",
        "                          keras.layers.Embedding(input_dim=vocab_size, output_dim = embedding_dim, input_length = max_length ),\n",
        "                          keras.layers.GlobalAveragePooling1D(),\n",
        "                          keras.layers.Dense(24, activation = 'relu'),\n",
        "                          keras.layers.Dense(1, activation = 'sigmoid')])\n",
        "\n",
        "model_new.compile(loss = 'binary_crossentropy', optimizer = 'adam', metrics = ['accuracy'])\n",
        "model_new.summary()"
      ],
      "execution_count": 82,
      "outputs": [
        {
          "output_type": "stream",
          "text": [
            "Model: \"sequential_6\"\n",
            "_________________________________________________________________\n",
            "Layer (type)                 Output Shape              Param #   \n",
            "=================================================================\n",
            "embedding_6 (Embedding)      (None, 120, 32)           320000    \n",
            "_________________________________________________________________\n",
            "global_average_pooling1d_5 ( (None, 32)                0         \n",
            "_________________________________________________________________\n",
            "dense_12 (Dense)             (None, 24)                792       \n",
            "_________________________________________________________________\n",
            "dense_13 (Dense)             (None, 1)                 25        \n",
            "=================================================================\n",
            "Total params: 320,817\n",
            "Trainable params: 320,817\n",
            "Non-trainable params: 0\n",
            "_________________________________________________________________\n"
          ],
          "name": "stdout"
        }
      ]
    },
    {
      "cell_type": "code",
      "metadata": {
        "id": "onaQEOzrq91E",
        "colab_type": "code",
        "colab": {
          "base_uri": "https://localhost:8080/",
          "height": 433
        },
        "outputId": "80afe3f6-ba1e-479b-a4f9-4ff89944a233"
      },
      "source": [
        "earlystop = EarlyStopping(monitor='val_loss', min_delta=0, patience=8, verbose=0, mode='auto')\n",
        "num_epochs = 100\n",
        "\n",
        "history_new = model_new.fit(x=train_padded_new, y=train_labels, epochs = num_epochs, batch_size = 32,\n",
        "          validation_data = (test_padded_new, test_labels), verbose = 2,\n",
        "          callbacks = [earlystop])\n"
      ],
      "execution_count": 83,
      "outputs": [
        {
          "output_type": "stream",
          "text": [
            "Epoch 1/100\n",
            "625/625 - 3s - loss: 0.6429 - accuracy: 0.6221 - val_loss: 0.5112 - val_accuracy: 0.8091\n",
            "Epoch 2/100\n",
            "625/625 - 3s - loss: 0.3937 - accuracy: 0.8450 - val_loss: 0.3707 - val_accuracy: 0.8453\n",
            "Epoch 3/100\n",
            "625/625 - 3s - loss: 0.2952 - accuracy: 0.8831 - val_loss: 0.3455 - val_accuracy: 0.8551\n",
            "Epoch 4/100\n",
            "625/625 - 3s - loss: 0.2471 - accuracy: 0.9024 - val_loss: 0.3437 - val_accuracy: 0.8517\n",
            "Epoch 5/100\n",
            "625/625 - 3s - loss: 0.2133 - accuracy: 0.9166 - val_loss: 0.3449 - val_accuracy: 0.8575\n",
            "Epoch 6/100\n",
            "625/625 - 3s - loss: 0.1856 - accuracy: 0.9298 - val_loss: 0.3610 - val_accuracy: 0.8517\n",
            "Epoch 7/100\n",
            "625/625 - 3s - loss: 0.1658 - accuracy: 0.9369 - val_loss: 0.3688 - val_accuracy: 0.8542\n",
            "Epoch 8/100\n",
            "625/625 - 3s - loss: 0.1464 - accuracy: 0.9456 - val_loss: 0.4036 - val_accuracy: 0.8435\n",
            "Epoch 9/100\n",
            "625/625 - 3s - loss: 0.1307 - accuracy: 0.9540 - val_loss: 0.4087 - val_accuracy: 0.8505\n",
            "Epoch 10/100\n",
            "625/625 - 3s - loss: 0.1210 - accuracy: 0.9556 - val_loss: 0.4307 - val_accuracy: 0.8466\n",
            "Epoch 11/100\n",
            "625/625 - 3s - loss: 0.1070 - accuracy: 0.9628 - val_loss: 0.4775 - val_accuracy: 0.8371\n",
            "Epoch 12/100\n",
            "625/625 - 3s - loss: 0.0979 - accuracy: 0.9664 - val_loss: 0.4848 - val_accuracy: 0.8438\n"
          ],
          "name": "stdout"
        }
      ]
    },
    {
      "cell_type": "code",
      "metadata": {
        "id": "0rL52zvvry9d",
        "colab_type": "code",
        "colab": {
          "base_uri": "https://localhost:8080/",
          "height": 35
        },
        "outputId": "43b7c1bd-476e-4104-84bb-a49dfb75c98e"
      },
      "source": [
        "history_dict_new = history.history\n",
        "history_dict_new.keys()"
      ],
      "execution_count": 84,
      "outputs": [
        {
          "output_type": "execute_result",
          "data": {
            "text/plain": [
              "dict_keys(['loss', 'accuracy', 'val_loss', 'val_accuracy'])"
            ]
          },
          "metadata": {
            "tags": []
          },
          "execution_count": 84
        }
      ]
    },
    {
      "cell_type": "code",
      "metadata": {
        "id": "k11B8zF8rT5r",
        "colab_type": "code",
        "colab": {
          "base_uri": "https://localhost:8080/",
          "height": 404
        },
        "outputId": "1f63d5a1-1585-447c-bb2a-ee7660e38d2a"
      },
      "source": [
        "acc = history_dict_new['accuracy']\n",
        "val_acc = history_dict_new['val_accuracy']\n",
        "loss = history_dict_new['loss']\n",
        "val_loss = history_dict_new['val_loss']\n",
        "\n",
        "epochs = range(1, len(acc) + 1)\n",
        "\n",
        "fig, (ax1,ax2) = plt.subplots(1, 2, figsize = (12,6)) \n",
        "\n",
        "ax1.plot(epochs, loss, 'bo', label='Training loss') # \"bo\" is for \"blue dot\"\n",
        "ax1.plot(epochs, val_loss, 'r', label='Validation loss') # r is for \"solid red line\"\n",
        "ax1.set_title('Training & Validation loss')\n",
        "ax1.set_xlabel('Epochs')\n",
        "ax1.set_ylabel('Loss')\n",
        "ax1.legend()\n",
        "\n",
        "ax2.plot(epochs, acc, 'bo', label='Training accuracy') # \"bo\" is for \"blue dot\"\n",
        "ax2.plot(epochs, val_acc, 'r', label='Validation accuracy') # r is for \"solid red line\"\n",
        "ax2.set_title('Training & Validation accuracy')\n",
        "ax2.set_xlabel('Epochs')\n",
        "ax2.set_ylabel('Accuracy')\n",
        "ax2.legend()\n",
        "\n",
        "plt.show()"
      ],
      "execution_count": 85,
      "outputs": [
        {
          "output_type": "display_data",
          "data": {
            "image/png": "[encoded data removed]",
            "text/plain": [
              "<Figure size 864x432 with 2 Axes>"
            ]
          },
          "metadata": {
            "tags": [],
            "needs_background": "light"
          }
        }
      ]
    },
    {
      "cell_type": "markdown",
      "metadata": {
        "id": "hfVgjbEOsj7Z",
        "colab_type": "text"
      },
      "source": [
        "There is no significant difference in validation accuracies from both the models. I will be using the first model to visualize the word embeddings"
      ]
    },
    {
      "cell_type": "markdown",
      "metadata": {
        "id": "baJxV78Wt0-Q",
        "colab_type": "text"
      },
      "source": [
        "##Model prediction"
      ]
    },
    {
      "cell_type": "markdown",
      "metadata": {
        "id": "avVl-1R2uw32",
        "colab_type": "text"
      },
      "source": [
        "###Prediction with preprocessed data model"
      ]
    },
    {
      "cell_type": "code",
      "metadata": {
        "id": "axADV1Ses_5q",
        "colab_type": "code",
        "colab": {
          "base_uri": "https://localhost:8080/",
          "height": 52
        },
        "outputId": "32a6f7b2-6dff-4377-c05c-f3ee41dd09f3"
      },
      "source": [
        "sentence = [\"granny starting to fear spiders in the garden might be real\", \"game of thrones season finale showing this sunday night\"]\n",
        "sequences = tokens.texts_to_sequences(sentence)\n",
        "padded = pad_sequences(sequences, maxlen=max_length, padding=pad_type, truncating=trunc_type)\n",
        "print(model.predict(padded))"
      ],
      "execution_count": 89,
      "outputs": [
        {
          "output_type": "stream",
          "text": [
            "[[0.7247011]\n",
            " [0.6561785]]\n"
          ],
          "name": "stdout"
        }
      ]
    },
    {
      "cell_type": "markdown",
      "metadata": {
        "id": "GSumJQp5u2_c",
        "colab_type": "text"
      },
      "source": [
        "###Prediction with w/o preprocessed data model"
      ]
    },
    {
      "cell_type": "code",
      "metadata": {
        "id": "Wof5JsThudDF",
        "colab_type": "code",
        "colab": {
          "base_uri": "https://localhost:8080/",
          "height": 52
        },
        "outputId": "cba7f524-bc22-42d5-adc5-6cdd938c784b"
      },
      "source": [
        "sentence = [\"granny starting to fear spiders in the garden might be real\", \"game of thrones season finale showing this sunday night\"]\n",
        "sequences_new = tokens_new.texts_to_sequences(sentence)\n",
        "padded_new = pad_sequences(sequences_new, maxlen=max_length, padding=pad_type, truncating=trunc_type)\n",
        "print(model_new.predict(padded))"
      ],
      "execution_count": 88,
      "outputs": [
        {
          "output_type": "stream",
          "text": [
            "[[0.8405017 ]\n",
            " [0.02489761]]\n"
          ],
          "name": "stdout"
        }
      ]
    },
    {
      "cell_type": "markdown",
      "metadata": {
        "id": "aTgxj3NFvSFN",
        "colab_type": "text"
      },
      "source": [
        "**It seems Model w/o preprocessed data has done the better job in predicting the new text**"
      ]
    },
    {
      "cell_type": "markdown",
      "metadata": {
        "id": "WUVu-VGXem3D",
        "colab_type": "text"
      },
      "source": [
        "##Visualizing Word Embeddings\n",
        "\n",
        "To plot the vectors in 3D space (visulaizing word_embeddings) in [tensorflow projector](https://projector.tensorflow.org/)\n",
        "- Get the weights from the embedding layer\n",
        "- With the help of reverse_word_index function, write word ('meta.tsv') & word_vec('vecs.tsv')files\n",
        "- Download those files & uploaded to [tensorflow projector](https://projector.tensorflow.org/)"
      ]
    },
    {
      "cell_type": "code",
      "metadata": {
        "id": "sM_EiN86ekDF",
        "colab_type": "code",
        "colab": {}
      },
      "source": [
        "embed = model.layers[0]\n",
        "weights = embed.get_weights()[0]\n",
        "print(\"Embed_weights_shape :\", weights.shape)\n",
        "\n",
        "import io\n",
        "\n",
        "out_word_vec = io.open('vecs.tsv', 'w', encoding='utf-8')\n",
        "out_words = io.open('meta.tsv', 'w', encoding='utf-8')\n",
        "\n",
        "for word_num in range(1,weights.shape[0]):\n",
        "  word = reverse_word_index[word_num]\n",
        "  embeddings = weights[word_num]\n",
        "  out_words.write(word + '\\n')\n",
        "  out_word_vec.write('\\t'.join([str(x) for x in embeddings]) + '\\n')\n",
        "\n",
        "out_word_vec.close()\n",
        "out_words.close()"
      ],
      "execution_count": null,
      "outputs": []
    },
    {
      "cell_type": "markdown",
      "metadata": {
        "id": "eIOTXLYTfaht",
        "colab_type": "text"
      },
      "source": [
        "If you are working on google colab then please do use the below code to download the files"
      ]
    },
    {
      "cell_type": "code",
      "metadata": {
        "id": "hh4HPlx7cM9k",
        "colab_type": "code",
        "colab": {
          "base_uri": "https://localhost:8080/",
          "height": 17
        },
        "outputId": "07169f57-6c20-4203-804f-5293b2606a0f"
      },
      "source": [
        "try:\n",
        "  from google.colab import files\n",
        "except ImportError:\n",
        "  pass\n",
        "else:\n",
        "  files.download('vecs.tsv')\n",
        "  files.download('meta.tsv')"
      ],
      "execution_count": 24,
      "outputs": [
        {
          "output_type": "display_data",
          "data": {
            "application/javascript": [
              "\n",
              "    async function download(id, filename, size) {\n",
              "      if (!google.colab.kernel.accessAllowed) {\n",
              "        return;\n",
              "      }\n",
              "      const div = document.createElement('div');\n",
              "      const label = document.createElement('label');\n",
              "      label.textContent = `Downloading \"${filename}\": `;\n",
              "      div.appendChild(label);\n",
              "      const progress = document.createElement('progress');\n",
              "      progress.max = size;\n",
              "      div.appendChild(progress);\n",
              "      document.body.appendChild(div);\n",
              "\n",
              "      const buffers = [];\n",
              "      let downloaded = 0;\n",
              "\n",
              "      const channel = await google.colab.kernel.comms.open(id);\n",
              "      // Send a message to notify the kernel that we're ready.\n",
              "      channel.send({})\n",
              "\n",
              "      for await (const message of channel.messages) {\n",
              "        // Send a message to notify the kernel that we're ready.\n",
              "        channel.send({})\n",
              "        if (message.buffers) {\n",
              "          for (const buffer of message.buffers) {\n",
              "            buffers.push(buffer);\n",
              "            downloaded += buffer.byteLength;\n",
              "            progress.value = downloaded;\n",
              "          }\n",
              "        }\n",
              "      }\n",
              "      const blob = new Blob(buffers, {type: 'application/binary'});\n",
              "      const a = document.createElement('a');\n",
              "      a.href = window.URL.createObjectURL(blob);\n",
              "      a.download = filename;\n",
              "      div.appendChild(a);\n",
              "      a.click();\n",
              "      div.remove();\n",
              "    }\n",
              "  "
            ],
            "text/plain": [
              "<IPython.core.display.Javascript object>"
            ]
          },
          "metadata": {
            "tags": []
          }
        },
        {
          "output_type": "display_data",
          "data": {
            "application/javascript": [
              "download(\"download_7c59513d-66fc-4fdd-9445-6fd884635204\", \"vecs.tsv\", 1910821)"
            ],
            "text/plain": [
              "<IPython.core.display.Javascript object>"
            ]
          },
          "metadata": {
            "tags": []
          }
        },
        {
          "output_type": "display_data",
          "data": {
            "application/javascript": [
              "\n",
              "    async function download(id, filename, size) {\n",
              "      if (!google.colab.kernel.accessAllowed) {\n",
              "        return;\n",
              "      }\n",
              "      const div = document.createElement('div');\n",
              "      const label = document.createElement('label');\n",
              "      label.textContent = `Downloading \"${filename}\": `;\n",
              "      div.appendChild(label);\n",
              "      const progress = document.createElement('progress');\n",
              "      progress.max = size;\n",
              "      div.appendChild(progress);\n",
              "      document.body.appendChild(div);\n",
              "\n",
              "      const buffers = [];\n",
              "      let downloaded = 0;\n",
              "\n",
              "      const channel = await google.colab.kernel.comms.open(id);\n",
              "      // Send a message to notify the kernel that we're ready.\n",
              "      channel.send({})\n",
              "\n",
              "      for await (const message of channel.messages) {\n",
              "        // Send a message to notify the kernel that we're ready.\n",
              "        channel.send({})\n",
              "        if (message.buffers) {\n",
              "          for (const buffer of message.buffers) {\n",
              "            buffers.push(buffer);\n",
              "            downloaded += buffer.byteLength;\n",
              "            progress.value = downloaded;\n",
              "          }\n",
              "        }\n",
              "      }\n",
              "      const blob = new Blob(buffers, {type: 'application/binary'});\n",
              "      const a = document.createElement('a');\n",
              "      a.href = window.URL.createObjectURL(blob);\n",
              "      a.download = filename;\n",
              "      div.appendChild(a);\n",
              "      a.click();\n",
              "      div.remove();\n",
              "    }\n",
              "  "
            ],
            "text/plain": [
              "<IPython.core.display.Javascript object>"
            ]
          },
          "metadata": {
            "tags": []
          }
        },
        {
          "output_type": "display_data",
          "data": {
            "application/javascript": [
              "download(\"download_3b7e2816-cb9e-4682-902e-6c867a5b0375\", \"meta.tsv\", 75846)"
            ],
            "text/plain": [
              "<IPython.core.display.Javascript object>"
            ]
          },
          "metadata": {
            "tags": []
          }
        }
      ]
    },
    {
      "cell_type": "code",
      "metadata": {
        "id": "-dQ_ujjac8vU",
        "colab_type": "code",
        "colab": {}
      },
      "source": [
        ""
      ],
      "execution_count": null,
      "outputs": []
    }
  ]
}