{
 "cells": [
  {
   "cell_type": "code",
   "execution_count": 1,
   "metadata": {
    "colab": {},
    "colab_type": "code",
    "id": "1gHu-YNZxYSS"
   },
   "outputs": [
    {
     "name": "stderr",
     "output_type": "stream",
     "text": [
      "C:\\Users\\vinne\\Anaconda3\\lib\\site-packages\\tqdm\\std.py:668: FutureWarning: The Panel class is removed from pandas. Accessing it from the top-level namespace will also be removed in the next version\n",
      "  from pandas import Panel\n"
     ]
    }
   ],
   "source": [
    "import os\n",
    "import re\n",
    "import pathlib\n",
    "import string\n",
    "from tqdm import tqdm\n",
    "import nltk\n",
    "import numpy as np\n",
    "import pandas as pd\n",
    "tqdm.pandas()\n",
    "import tensorflow as tf\n",
    "from tensorflow import keras"
   ]
  },
  {
   "cell_type": "code",
   "execution_count": 2,
   "metadata": {},
   "outputs": [
    {
     "data": {
      "text/plain": [
       "'2.0.0'"
      ]
     },
     "execution_count": 2,
     "metadata": {},
     "output_type": "execute_result"
    }
   ],
   "source": [
    "tf.__version__"
   ]
  },
  {
   "cell_type": "code",
   "execution_count": 2,
   "metadata": {
    "colab": {
     "base_uri": "https://localhost:8080/",
     "height": 1000
    },
    "colab_type": "code",
    "id": "PM8rfEoJBRdz",
    "outputId": "b254cc5e-9c3d-46f3-c27f-d1bbc3a4b0a1"
   },
   "outputs": [
    {
     "name": "stdout",
     "output_type": "stream",
     "text": [
      "[nltk_data] Downloading collection 'all'\n",
      "[nltk_data]    | \n",
      "[nltk_data]    | Downloading package abc to /root/nltk_data...\n",
      "[nltk_data]    |   Package abc is already up-to-date!\n",
      "[nltk_data]    | Downloading package alpino to /root/nltk_data...\n",
      "[nltk_data]    |   Package alpino is already up-to-date!\n",
      "[nltk_data]    | Downloading package biocreative_ppi to\n",
      "[nltk_data]    |     /root/nltk_data...\n",
      "[nltk_data]    |   Package biocreative_ppi is already up-to-date!\n",
      "[nltk_data]    | Downloading package brown to /root/nltk_data...\n",
      "[nltk_data]    |   Package brown is already up-to-date!\n",
      "[nltk_data]    | Downloading package brown_tei to /root/nltk_data...\n",
      "[nltk_data]    |   Package brown_tei is already up-to-date!\n",
      "[nltk_data]    | Downloading package cess_cat to /root/nltk_data...\n",
      "[nltk_data]    |   Package cess_cat is already up-to-date!\n",
      "[nltk_data]    | Downloading package cess_esp to /root/nltk_data...\n",
      "[nltk_data]    |   Package cess_esp is already up-to-date!\n",
      "[nltk_data]    | Downloading package chat80 to /root/nltk_data...\n",
      "[nltk_data]    |   Package chat80 is already up-to-date!\n",
      "[nltk_data]    | Downloading package city_database to\n",
      "[nltk_data]    |     /root/nltk_data...\n",
      "[nltk_data]    |   Package city_database is already up-to-date!\n",
      "[nltk_data]    | Downloading package cmudict to /root/nltk_data...\n",
      "[nltk_data]    |   Package cmudict is already up-to-date!\n",
      "[nltk_data]    | Downloading package comparative_sentences to\n",
      "[nltk_data]    |     /root/nltk_data...\n",
      "[nltk_data]    |   Package comparative_sentences is already up-to-\n",
      "[nltk_data]    |       date!\n",
      "[nltk_data]    | Downloading package comtrans to /root/nltk_data...\n",
      "[nltk_data]    |   Package comtrans is already up-to-date!\n",
      "[nltk_data]    | Downloading package conll2000 to /root/nltk_data...\n",
      "[nltk_data]    |   Package conll2000 is already up-to-date!\n",
      "[nltk_data]    | Downloading package conll2002 to /root/nltk_data...\n",
      "[nltk_data]    |   Package conll2002 is already up-to-date!\n",
      "[nltk_data]    | Downloading package conll2007 to /root/nltk_data...\n",
      "[nltk_data]    |   Package conll2007 is already up-to-date!\n",
      "[nltk_data]    | Downloading package crubadan to /root/nltk_data...\n",
      "[nltk_data]    |   Package crubadan is already up-to-date!\n",
      "[nltk_data]    | Downloading package dependency_treebank to\n",
      "[nltk_data]    |     /root/nltk_data...\n",
      "[nltk_data]    |   Package dependency_treebank is already up-to-date!\n",
      "[nltk_data]    | Downloading package dolch to /root/nltk_data...\n",
      "[nltk_data]    |   Package dolch is already up-to-date!\n",
      "[nltk_data]    | Downloading package europarl_raw to\n",
      "[nltk_data]    |     /root/nltk_data...\n",
      "[nltk_data]    |   Package europarl_raw is already up-to-date!\n",
      "[nltk_data]    | Downloading package floresta to /root/nltk_data...\n",
      "[nltk_data]    |   Package floresta is already up-to-date!\n",
      "[nltk_data]    | Downloading package framenet_v15 to\n",
      "[nltk_data]    |     /root/nltk_data...\n",
      "[nltk_data]    |   Package framenet_v15 is already up-to-date!\n",
      "[nltk_data]    | Downloading package framenet_v17 to\n",
      "[nltk_data]    |     /root/nltk_data...\n",
      "[nltk_data]    |   Package framenet_v17 is already up-to-date!\n",
      "[nltk_data]    | Downloading package gazetteers to /root/nltk_data...\n",
      "[nltk_data]    |   Package gazetteers is already up-to-date!\n",
      "[nltk_data]    | Downloading package genesis to /root/nltk_data...\n",
      "[nltk_data]    |   Package genesis is already up-to-date!\n",
      "[nltk_data]    | Downloading package gutenberg to /root/nltk_data...\n",
      "[nltk_data]    |   Package gutenberg is already up-to-date!\n",
      "[nltk_data]    | Downloading package ieer to /root/nltk_data...\n",
      "[nltk_data]    |   Package ieer is already up-to-date!\n",
      "[nltk_data]    | Downloading package inaugural to /root/nltk_data...\n",
      "[nltk_data]    |   Package inaugural is already up-to-date!\n",
      "[nltk_data]    | Downloading package indian to /root/nltk_data...\n",
      "[nltk_data]    |   Package indian is already up-to-date!\n",
      "[nltk_data]    | Downloading package jeita to /root/nltk_data...\n",
      "[nltk_data]    |   Package jeita is already up-to-date!\n",
      "[nltk_data]    | Downloading package kimmo to /root/nltk_data...\n",
      "[nltk_data]    |   Package kimmo is already up-to-date!\n",
      "[nltk_data]    | Downloading package knbc to /root/nltk_data...\n",
      "[nltk_data]    |   Package knbc is already up-to-date!\n",
      "[nltk_data]    | Downloading package lin_thesaurus to\n",
      "[nltk_data]    |     /root/nltk_data...\n",
      "[nltk_data]    |   Package lin_thesaurus is already up-to-date!\n",
      "[nltk_data]    | Downloading package mac_morpho to /root/nltk_data...\n",
      "[nltk_data]    |   Package mac_morpho is already up-to-date!\n",
      "[nltk_data]    | Downloading package machado to /root/nltk_data...\n",
      "[nltk_data]    |   Package machado is already up-to-date!\n",
      "[nltk_data]    | Downloading package masc_tagged to /root/nltk_data...\n",
      "[nltk_data]    |   Package masc_tagged is already up-to-date!\n",
      "[nltk_data]    | Downloading package moses_sample to\n",
      "[nltk_data]    |     /root/nltk_data...\n",
      "[nltk_data]    |   Package moses_sample is already up-to-date!\n",
      "[nltk_data]    | Downloading package movie_reviews to\n",
      "[nltk_data]    |     /root/nltk_data...\n",
      "[nltk_data]    |   Package movie_reviews is already up-to-date!\n",
      "[nltk_data]    | Downloading package names to /root/nltk_data...\n",
      "[nltk_data]    |   Package names is already up-to-date!\n",
      "[nltk_data]    | Downloading package nombank.1.0 to /root/nltk_data...\n",
      "[nltk_data]    |   Package nombank.1.0 is already up-to-date!\n",
      "[nltk_data]    | Downloading package nps_chat to /root/nltk_data...\n",
      "[nltk_data]    |   Package nps_chat is already up-to-date!\n",
      "[nltk_data]    | Downloading package omw to /root/nltk_data...\n",
      "[nltk_data]    |   Package omw is already up-to-date!\n",
      "[nltk_data]    | Downloading package opinion_lexicon to\n",
      "[nltk_data]    |     /root/nltk_data...\n",
      "[nltk_data]    |   Package opinion_lexicon is already up-to-date!\n",
      "[nltk_data]    | Downloading package paradigms to /root/nltk_data...\n",
      "[nltk_data]    |   Package paradigms is already up-to-date!\n",
      "[nltk_data]    | Downloading package pil to /root/nltk_data...\n",
      "[nltk_data]    |   Package pil is already up-to-date!\n",
      "[nltk_data]    | Downloading package pl196x to /root/nltk_data...\n",
      "[nltk_data]    |   Package pl196x is already up-to-date!\n",
      "[nltk_data]    | Downloading package ppattach to /root/nltk_data...\n",
      "[nltk_data]    |   Package ppattach is already up-to-date!\n",
      "[nltk_data]    | Downloading package problem_reports to\n",
      "[nltk_data]    |     /root/nltk_data...\n",
      "[nltk_data]    |   Package problem_reports is already up-to-date!\n",
      "[nltk_data]    | Downloading package propbank to /root/nltk_data...\n",
      "[nltk_data]    |   Package propbank is already up-to-date!\n",
      "[nltk_data]    | Downloading package ptb to /root/nltk_data...\n",
      "[nltk_data]    |   Package ptb is already up-to-date!\n",
      "[nltk_data]    | Downloading package product_reviews_1 to\n",
      "[nltk_data]    |     /root/nltk_data...\n",
      "[nltk_data]    |   Package product_reviews_1 is already up-to-date!\n",
      "[nltk_data]    | Downloading package product_reviews_2 to\n",
      "[nltk_data]    |     /root/nltk_data...\n",
      "[nltk_data]    |   Package product_reviews_2 is already up-to-date!\n",
      "[nltk_data]    | Downloading package pros_cons to /root/nltk_data...\n",
      "[nltk_data]    |   Package pros_cons is already up-to-date!\n",
      "[nltk_data]    | Downloading package qc to /root/nltk_data...\n",
      "[nltk_data]    |   Package qc is already up-to-date!\n",
      "[nltk_data]    | Downloading package reuters to /root/nltk_data...\n",
      "[nltk_data]    |   Package reuters is already up-to-date!\n",
      "[nltk_data]    | Downloading package rte to /root/nltk_data...\n",
      "[nltk_data]    |   Package rte is already up-to-date!\n",
      "[nltk_data]    | Downloading package semcor to /root/nltk_data...\n",
      "[nltk_data]    |   Package semcor is already up-to-date!\n",
      "[nltk_data]    | Downloading package senseval to /root/nltk_data...\n",
      "[nltk_data]    |   Package senseval is already up-to-date!\n",
      "[nltk_data]    | Downloading package sentiwordnet to\n",
      "[nltk_data]    |     /root/nltk_data...\n",
      "[nltk_data]    |   Package sentiwordnet is already up-to-date!\n",
      "[nltk_data]    | Downloading package sentence_polarity to\n",
      "[nltk_data]    |     /root/nltk_data...\n",
      "[nltk_data]    |   Package sentence_polarity is already up-to-date!\n",
      "[nltk_data]    | Downloading package shakespeare to /root/nltk_data...\n",
      "[nltk_data]    |   Package shakespeare is already up-to-date!\n",
      "[nltk_data]    | Downloading package sinica_treebank to\n",
      "[nltk_data]    |     /root/nltk_data...\n",
      "[nltk_data]    |   Package sinica_treebank is already up-to-date!\n",
      "[nltk_data]    | Downloading package smultron to /root/nltk_data...\n",
      "[nltk_data]    |   Package smultron is already up-to-date!\n",
      "[nltk_data]    | Downloading package state_union to /root/nltk_data...\n",
      "[nltk_data]    |   Package state_union is already up-to-date!\n",
      "[nltk_data]    | Downloading package stopwords to /root/nltk_data...\n",
      "[nltk_data]    |   Package stopwords is already up-to-date!\n",
      "[nltk_data]    | Downloading package subjectivity to\n",
      "[nltk_data]    |     /root/nltk_data...\n",
      "[nltk_data]    |   Package subjectivity is already up-to-date!\n",
      "[nltk_data]    | Downloading package swadesh to /root/nltk_data...\n",
      "[nltk_data]    |   Package swadesh is already up-to-date!\n",
      "[nltk_data]    | Downloading package switchboard to /root/nltk_data...\n",
      "[nltk_data]    |   Package switchboard is already up-to-date!\n",
      "[nltk_data]    | Downloading package timit to /root/nltk_data...\n",
      "[nltk_data]    |   Package timit is already up-to-date!\n",
      "[nltk_data]    | Downloading package toolbox to /root/nltk_data...\n",
      "[nltk_data]    |   Package toolbox is already up-to-date!\n",
      "[nltk_data]    | Downloading package treebank to /root/nltk_data...\n",
      "[nltk_data]    |   Package treebank is already up-to-date!\n",
      "[nltk_data]    | Downloading package twitter_samples to\n",
      "[nltk_data]    |     /root/nltk_data...\n",
      "[nltk_data]    |   Package twitter_samples is already up-to-date!\n",
      "[nltk_data]    | Downloading package udhr to /root/nltk_data...\n",
      "[nltk_data]    |   Package udhr is already up-to-date!\n",
      "[nltk_data]    | Downloading package udhr2 to /root/nltk_data...\n",
      "[nltk_data]    |   Package udhr2 is already up-to-date!\n",
      "[nltk_data]    | Downloading package unicode_samples to\n",
      "[nltk_data]    |     /root/nltk_data...\n",
      "[nltk_data]    |   Package unicode_samples is already up-to-date!\n",
      "[nltk_data]    | Downloading package universal_treebanks_v20 to\n",
      "[nltk_data]    |     /root/nltk_data...\n",
      "[nltk_data]    |   Package universal_treebanks_v20 is already up-to-\n",
      "[nltk_data]    |       date!\n",
      "[nltk_data]    | Downloading package verbnet to /root/nltk_data...\n",
      "[nltk_data]    |   Package verbnet is already up-to-date!\n",
      "[nltk_data]    | Downloading package verbnet3 to /root/nltk_data...\n",
      "[nltk_data]    |   Package verbnet3 is already up-to-date!\n",
      "[nltk_data]    | Downloading package webtext to /root/nltk_data...\n",
      "[nltk_data]    |   Package webtext is already up-to-date!\n",
      "[nltk_data]    | Downloading package wordnet to /root/nltk_data...\n",
      "[nltk_data]    |   Package wordnet is already up-to-date!\n",
      "[nltk_data]    | Downloading package wordnet_ic to /root/nltk_data...\n",
      "[nltk_data]    |   Package wordnet_ic is already up-to-date!\n",
      "[nltk_data]    | Downloading package words to /root/nltk_data...\n",
      "[nltk_data]    |   Package words is already up-to-date!\n",
      "[nltk_data]    | Downloading package ycoe to /root/nltk_data...\n",
      "[nltk_data]    |   Package ycoe is already up-to-date!\n",
      "[nltk_data]    | Downloading package rslp to /root/nltk_data...\n",
      "[nltk_data]    |   Package rslp is already up-to-date!\n",
      "[nltk_data]    | Downloading package maxent_treebank_pos_tagger to\n",
      "[nltk_data]    |     /root/nltk_data...\n",
      "[nltk_data]    |   Package maxent_treebank_pos_tagger is already up-\n",
      "[nltk_data]    |       to-date!\n",
      "[nltk_data]    | Downloading package universal_tagset to\n",
      "[nltk_data]    |     /root/nltk_data...\n",
      "[nltk_data]    |   Package universal_tagset is already up-to-date!\n",
      "[nltk_data]    | Downloading package maxent_ne_chunker to\n",
      "[nltk_data]    |     /root/nltk_data...\n",
      "[nltk_data]    |   Package maxent_ne_chunker is already up-to-date!\n",
      "[nltk_data]    | Downloading package punkt to /root/nltk_data...\n",
      "[nltk_data]    |   Package punkt is already up-to-date!\n",
      "[nltk_data]    | Downloading package book_grammars to\n",
      "[nltk_data]    |     /root/nltk_data...\n",
      "[nltk_data]    |   Package book_grammars is already up-to-date!\n",
      "[nltk_data]    | Downloading package sample_grammars to\n",
      "[nltk_data]    |     /root/nltk_data...\n",
      "[nltk_data]    |   Package sample_grammars is already up-to-date!\n",
      "[nltk_data]    | Downloading package spanish_grammars to\n",
      "[nltk_data]    |     /root/nltk_data...\n",
      "[nltk_data]    |   Package spanish_grammars is already up-to-date!\n",
      "[nltk_data]    | Downloading package basque_grammars to\n",
      "[nltk_data]    |     /root/nltk_data...\n",
      "[nltk_data]    |   Package basque_grammars is already up-to-date!\n",
      "[nltk_data]    | Downloading package large_grammars to\n",
      "[nltk_data]    |     /root/nltk_data...\n",
      "[nltk_data]    |   Package large_grammars is already up-to-date!\n",
      "[nltk_data]    | Downloading package tagsets to /root/nltk_data...\n",
      "[nltk_data]    |   Package tagsets is already up-to-date!\n",
      "[nltk_data]    | Downloading package snowball_data to\n",
      "[nltk_data]    |     /root/nltk_data...\n",
      "[nltk_data]    |   Package snowball_data is already up-to-date!\n",
      "[nltk_data]    | Downloading package bllip_wsj_no_aux to\n",
      "[nltk_data]    |     /root/nltk_data...\n",
      "[nltk_data]    |   Package bllip_wsj_no_aux is already up-to-date!\n",
      "[nltk_data]    | Downloading package word2vec_sample to\n",
      "[nltk_data]    |     /root/nltk_data...\n",
      "[nltk_data]    |   Package word2vec_sample is already up-to-date!\n",
      "[nltk_data]    | Downloading package panlex_swadesh to\n",
      "[nltk_data]    |     /root/nltk_data...\n",
      "[nltk_data]    |   Package panlex_swadesh is already up-to-date!\n",
      "[nltk_data]    | Downloading package mte_teip5 to /root/nltk_data...\n",
      "[nltk_data]    |   Package mte_teip5 is already up-to-date!\n",
      "[nltk_data]    | Downloading package averaged_perceptron_tagger to\n",
      "[nltk_data]    |     /root/nltk_data...\n",
      "[nltk_data]    |   Package averaged_perceptron_tagger is already up-\n",
      "[nltk_data]    |       to-date!\n",
      "[nltk_data]    | Downloading package averaged_perceptron_tagger_ru to\n",
      "[nltk_data]    |     /root/nltk_data...\n",
      "[nltk_data]    |   Package averaged_perceptron_tagger_ru is already\n",
      "[nltk_data]    |       up-to-date!\n",
      "[nltk_data]    | Downloading package perluniprops to\n",
      "[nltk_data]    |     /root/nltk_data...\n",
      "[nltk_data]    |   Package perluniprops is already up-to-date!\n",
      "[nltk_data]    | Downloading package nonbreaking_prefixes to\n",
      "[nltk_data]    |     /root/nltk_data...\n",
      "[nltk_data]    |   Package nonbreaking_prefixes is already up-to-date!\n",
      "[nltk_data]    | Downloading package vader_lexicon to\n",
      "[nltk_data]    |     /root/nltk_data...\n",
      "[nltk_data]    |   Package vader_lexicon is already up-to-date!\n",
      "[nltk_data]    | Downloading package porter_test to /root/nltk_data...\n",
      "[nltk_data]    |   Package porter_test is already up-to-date!\n",
      "[nltk_data]    | Downloading package wmt15_eval to /root/nltk_data...\n",
      "[nltk_data]    |   Package wmt15_eval is already up-to-date!\n",
      "[nltk_data]    | Downloading package mwa_ppdb to /root/nltk_data...\n",
      "[nltk_data]    |   Package mwa_ppdb is already up-to-date!\n",
      "[nltk_data]    | \n",
      "[nltk_data]  Done downloading collection all\n"
     ]
    },
    {
     "data": {
      "text/plain": [
       "True"
      ]
     },
     "execution_count": 2,
     "metadata": {
      "tags": []
     },
     "output_type": "execute_result"
    }
   ],
   "source": [
    "nltk.download('all')"
   ]
  },
  {
   "cell_type": "markdown",
   "metadata": {
    "colab_type": "text",
    "id": "3zXxsI6oy0Tr"
   },
   "source": [
    "Load Pretrained [Glove word embeddings](http://nlp.stanford.edu/projects/glove/) "
   ]
  },
  {
   "cell_type": "markdown",
   "metadata": {},
   "source": [
    "**`wget` & `unzip` works on Linux interface machines (like Google Colab) or else you can download the glove embeddings file from [here](http://www-nlp.stanford.edu/data/glove.840B.300d.zip)**"
   ]
  },
  {
   "cell_type": "code",
   "execution_count": 3,
   "metadata": {
    "colab": {
     "base_uri": "https://localhost:8080/",
     "height": 329
    },
    "colab_type": "code",
    "id": "NqTt3tDeyx6_",
    "outputId": "397ece19-35bc-420b-ea0e-91282dab1671"
   },
   "outputs": [
    {
     "name": "stdout",
     "output_type": "stream",
     "text": [
      "--2020-07-30 09:24:13--  http://www-nlp.stanford.edu/data/glove.840B.300d.zip\n",
      "Resolving www-nlp.stanford.edu (www-nlp.stanford.edu)... 171.64.67.140\n",
      "Connecting to www-nlp.stanford.edu (www-nlp.stanford.edu)|171.64.67.140|:80... connected.\n",
      "HTTP request sent, awaiting response... 302 Found\n",
      "Location: https://nlp.stanford.edu/data/glove.840B.300d.zip [following]\n",
      "--2020-07-30 09:24:13--  https://nlp.stanford.edu/data/glove.840B.300d.zip\n",
      "Resolving nlp.stanford.edu (nlp.stanford.edu)... 171.64.67.140\n",
      "Connecting to nlp.stanford.edu (nlp.stanford.edu)|171.64.67.140|:443... connected.\n",
      "HTTP request sent, awaiting response... 301 Moved Permanently\n",
      "Location: http://downloads.cs.stanford.edu/nlp/data/glove.840B.300d.zip [following]\n",
      "--2020-07-30 09:24:13--  http://downloads.cs.stanford.edu/nlp/data/glove.840B.300d.zip\n",
      "Resolving downloads.cs.stanford.edu (downloads.cs.stanford.edu)... 171.64.64.22\n",
      "Connecting to downloads.cs.stanford.edu (downloads.cs.stanford.edu)|171.64.64.22|:80... connected.\n",
      "HTTP request sent, awaiting response... 200 OK\n",
      "Length: 2176768927 (2.0G) [application/zip]\n",
      "Saving to: ‘glove.840B.300d.zip.1’\n",
      "\n",
      "glove.840B.300d.zip   7%[>                   ] 157.74M  2.00MB/s    eta 11m 14s^C\n"
     ]
    }
   ],
   "source": [
    "!wget http://www-nlp.stanford.edu/data/glove.840B.300d.zip"
   ]
  },
  {
   "cell_type": "code",
   "execution_count": 4,
   "metadata": {
    "colab": {
     "base_uri": "https://localhost:8080/",
     "height": 35
    },
    "colab_type": "code",
    "id": "bG1dch13zJtt",
    "outputId": "cd6a0f26-30f4-4c57-cbc0-c245d6d82581"
   },
   "outputs": [
    {
     "name": "stdout",
     "output_type": "stream",
     "text": [
      "replace glove.840B.300d.txt? [y]es, [n]o, [A]ll, [N]one, [r]ename: "
     ]
    }
   ],
   "source": [
    "!unzip -q glove.840B.300d.zip"
   ]
  },
  {
   "cell_type": "code",
   "execution_count": 5,
   "metadata": {
    "colab": {
     "base_uri": "https://localhost:8080/",
     "height": 87
    },
    "colab_type": "code",
    "id": "URExsCr4Ui1p",
    "outputId": "5aa2b32c-5721-488c-c663-e1ec7ce1011b"
   },
   "outputs": [
    {
     "name": "stderr",
     "output_type": "stream",
     "text": [
      "2196017it [02:50, 12894.50it/s]"
     ]
    },
    {
     "name": "stdout",
     "output_type": "stream",
     "text": [
      "\n",
      "\n",
      "Found 2195884 word vectors\n"
     ]
    },
    {
     "name": "stderr",
     "output_type": "stream",
     "text": [
      "\n"
     ]
    }
   ],
   "source": [
    "glove_embeddings_index = {}\n",
    "with open('/content/glove.840B.300d.txt') as f:\n",
    "    for line in tqdm(f):\n",
    "        # word, coefs = line.split(maxsplit=1)\n",
    "        # coefs = np.fromstring(coefs, \"f\", sep=\" \")\n",
    "        values = line.split( )\n",
    "        word = values[0]\n",
    "        try:\n",
    "          coefs = np.asarray(values[1:], dtype = 'float32')\n",
    "        except ValueError:\n",
    "          pass\n",
    "        glove_embeddings_index[word] = coefs\n",
    "f.close()\n",
    "print(\"\\n\")\n",
    "print(f\"Found {len(glove_embeddings_index)} word vectors\")"
   ]
  },
  {
   "cell_type": "code",
   "execution_count": 45,
   "metadata": {
    "colab": {
     "base_uri": "https://localhost:8080/",
     "height": 219
    },
    "colab_type": "code",
    "id": "4Qlb0DQ33ebs",
    "outputId": "30c6f615-b55f-415b-a8b8-a39e7dafedc9"
   },
   "outputs": [
    {
     "name": "stdout",
     "output_type": "stream",
     "text": [
      "Training data shape:  (7613, 5)\n"
     ]
    },
    {
     "data": {
      "text/html": [
       "<div>\n",
       "<style scoped>\n",
       "    .dataframe tbody tr th:only-of-type {\n",
       "        vertical-align: middle;\n",
       "    }\n",
       "\n",
       "    .dataframe tbody tr th {\n",
       "        vertical-align: top;\n",
       "    }\n",
       "\n",
       "    .dataframe thead th {\n",
       "        text-align: right;\n",
       "    }\n",
       "</style>\n",
       "<table border=\"1\" class=\"dataframe\">\n",
       "  <thead>\n",
       "    <tr style=\"text-align: right;\">\n",
       "      <th></th>\n",
       "      <th>id</th>\n",
       "      <th>keyword</th>\n",
       "      <th>location</th>\n",
       "      <th>text</th>\n",
       "      <th>target</th>\n",
       "    </tr>\n",
       "  </thead>\n",
       "  <tbody>\n",
       "    <tr>\n",
       "      <th>0</th>\n",
       "      <td>1</td>\n",
       "      <td>NaN</td>\n",
       "      <td>NaN</td>\n",
       "      <td>Our Deeds are the Reason of this #earthquake M...</td>\n",
       "      <td>1</td>\n",
       "    </tr>\n",
       "    <tr>\n",
       "      <th>1</th>\n",
       "      <td>4</td>\n",
       "      <td>NaN</td>\n",
       "      <td>NaN</td>\n",
       "      <td>Forest fire near La Ronge Sask. Canada</td>\n",
       "      <td>1</td>\n",
       "    </tr>\n",
       "    <tr>\n",
       "      <th>2</th>\n",
       "      <td>5</td>\n",
       "      <td>NaN</td>\n",
       "      <td>NaN</td>\n",
       "      <td>All residents asked to 'shelter in place' are ...</td>\n",
       "      <td>1</td>\n",
       "    </tr>\n",
       "    <tr>\n",
       "      <th>3</th>\n",
       "      <td>6</td>\n",
       "      <td>NaN</td>\n",
       "      <td>NaN</td>\n",
       "      <td>13,000 people receive #wildfires evacuation or...</td>\n",
       "      <td>1</td>\n",
       "    </tr>\n",
       "    <tr>\n",
       "      <th>4</th>\n",
       "      <td>7</td>\n",
       "      <td>NaN</td>\n",
       "      <td>NaN</td>\n",
       "      <td>Just got sent this photo from Ruby #Alaska as ...</td>\n",
       "      <td>1</td>\n",
       "    </tr>\n",
       "  </tbody>\n",
       "</table>\n",
       "</div>"
      ],
      "text/plain": [
       "   id keyword  ...                                               text target\n",
       "0   1     NaN  ...  Our Deeds are the Reason of this #earthquake M...      1\n",
       "1   4     NaN  ...             Forest fire near La Ronge Sask. Canada      1\n",
       "2   5     NaN  ...  All residents asked to 'shelter in place' are ...      1\n",
       "3   6     NaN  ...  13,000 people receive #wildfires evacuation or...      1\n",
       "4   7     NaN  ...  Just got sent this photo from Ruby #Alaska as ...      1\n",
       "\n",
       "[5 rows x 5 columns]"
      ]
     },
     "execution_count": 45,
     "metadata": {
      "tags": []
     },
     "output_type": "execute_result"
    }
   ],
   "source": [
    "train_data = pd.read_csv(r'/content/drive/My Drive/Data_disaster_real_tweets/train.csv')\n",
    "test_data = pd.read_csv(r'/content/drive/My Drive/Data_disaster_real_tweets/test.csv')\n",
    "print('Training data shape: ', train_data.shape)\n",
    "train_data.head()"
   ]
  },
  {
   "cell_type": "code",
   "execution_count": 46,
   "metadata": {
    "colab": {
     "base_uri": "https://localhost:8080/",
     "height": 211
    },
    "colab_type": "code",
    "id": "zRR_o7Keruzw",
    "outputId": "566a1f32-a25d-4357-e821-abfa34bbd53e"
   },
   "outputs": [
    {
     "data": {
      "text/plain": [
       "['Our Deeds are the Reason of this #earthquake May ALLAH Forgive us all',\n",
       " 'Forest fire near La Ronge Sask. Canada',\n",
       " \"All residents asked to 'shelter in place' are being notified by officers. No other evacuation or shelter in place orders are expected\",\n",
       " '13,000 people receive #wildfires evacuation orders in California ',\n",
       " 'Just got sent this photo from Ruby #Alaska as smoke from #wildfires pours into a school ',\n",
       " '#RockyFire Update => California Hwy. 20 closed in both directions due to Lake County fire - #CAfire #wildfires',\n",
       " '#flood #disaster Heavy rain causes flash flooding of streets in Manitou, Colorado Springs areas',\n",
       " \"I'm on top of the hill and I can see a fire in the woods...\",\n",
       " \"There's an emergency evacuation happening now in the building across the street\",\n",
       " \"I'm afraid that the tornado is coming to our area...\"]"
      ]
     },
     "execution_count": 46,
     "metadata": {
      "tags": []
     },
     "output_type": "execute_result"
    }
   ],
   "source": [
    "list(train_data.text.values)[:10]"
   ]
  },
  {
   "cell_type": "code",
   "execution_count": 47,
   "metadata": {
    "colab": {},
    "colab_type": "code",
    "id": "8TU8REh0c0V-"
   },
   "outputs": [],
   "source": [
    "def text_preprocessing(text):\n",
    "    '''\n",
    "    Make text lowercase, remove text in square brackets,remove links,remove special characters\n",
    "    and remove words containing numbers.\n",
    "    '''\n",
    "    text = text.lower()\n",
    "    text = re.sub('\\[.*?\\]', '', text)\n",
    "    text = re.sub(\"\\\\W\",\" \",text) # remove special chars\n",
    "    text = re.sub('https?:\\S+|www.\\S+', '', text)  # remove urls \n",
    "    text = re.sub('<.*?>+', '', text)  # remove html tags\n",
    "    # text = re.sub('[^a-zA-Z]', ' ', text) #remove non alphabetical characters\n",
    "    text = re.sub('[%s]' % re.escape(string.punctuation), '', text)  \n",
    "    text = re.sub('\\n', '', text)\n",
    "    text = re.sub('\\w*\\d\\w*', '', text)\n",
    "  \n",
    "    return text"
   ]
  },
  {
   "cell_type": "markdown",
   "metadata": {
    "colab_type": "text",
    "id": "TI1CYVnm8Z4c"
   },
   "source": [
    "clean the both train & test text per `custom_preprocessor` function"
   ]
  },
  {
   "cell_type": "code",
   "execution_count": 48,
   "metadata": {
    "colab": {
     "base_uri": "https://localhost:8080/",
     "height": 52
    },
    "colab_type": "code",
    "id": "RiOOYZ818QTP",
    "outputId": "19ae3de7-6105-428d-c0d1-0f3dcf2e5e52"
   },
   "outputs": [
    {
     "name": "stderr",
     "output_type": "stream",
     "text": [
      "100%|██████████| 7613/7613 [00:00<00:00, 30809.29it/s]\n",
      "100%|██████████| 3263/3263 [00:00<00:00, 32978.19it/s]\n"
     ]
    }
   ],
   "source": [
    "train_data['text'] = train_data['text'].progress_apply(lambda x : text_preprocessing(x))\n",
    "test_data['text'] = test_data['text'].progress_apply(lambda x : text_preprocessing(x))"
   ]
  },
  {
   "cell_type": "code",
   "execution_count": 49,
   "metadata": {
    "colab": {
     "base_uri": "https://localhost:8080/",
     "height": 211
    },
    "colab_type": "code",
    "id": "1oSFEqCIpMdB",
    "outputId": "5dfc914a-f77f-4881-de0c-99833ca5c782"
   },
   "outputs": [
    {
     "data": {
      "text/plain": [
       "['our deeds are the reason of this  earthquake may allah forgive us all',\n",
       " 'forest fire near la ronge sask  canada',\n",
       " 'all residents asked to  shelter in place  are being notified by officers  no other evacuation or shelter in place orders are expected',\n",
       " '  people receive  wildfires evacuation orders in california ',\n",
       " 'just got sent this photo from ruby  alaska as smoke from  wildfires pours into a school ',\n",
       " ' rockyfire update    california hwy   closed in both directions due to lake county fire    cafire  wildfires',\n",
       " ' flood  disaster heavy rain causes flash flooding of streets in manitou  colorado springs areas',\n",
       " 'i m on top of the hill and i can see a fire in the woods   ',\n",
       " 'there s an emergency evacuation happening now in the building across the street',\n",
       " 'i m afraid that the tornado is coming to our area   ']"
      ]
     },
     "execution_count": 49,
     "metadata": {
      "tags": []
     },
     "output_type": "execute_result"
    }
   ],
   "source": [
    "list(train_data['text'].values)[:10]"
   ]
  },
  {
   "cell_type": "code",
   "execution_count": 50,
   "metadata": {
    "colab": {},
    "colab_type": "code",
    "id": "8NM_Q6Cr-PNz"
   },
   "outputs": [],
   "source": [
    "from sklearn.model_selection import train_test_split\n",
    "\n",
    "xtrain,xvalid,ytrain,yvalid = train_test_split(train_data.text.values,train_data.target.values,\n",
    "                                               test_size = 0.2,\n",
    "                                               stratify = train_data.target.values,\n",
    "                                               random_state = 42,\n",
    "                                               shuffle = True)"
   ]
  },
  {
   "cell_type": "code",
   "execution_count": 51,
   "metadata": {
    "colab": {},
    "colab_type": "code",
    "id": "OQQ8o_VYDTrk"
   },
   "outputs": [],
   "source": [
    "# print(type(xtrain))\n",
    "# print(type(ytrain))"
   ]
  },
  {
   "cell_type": "code",
   "execution_count": 52,
   "metadata": {
    "colab": {},
    "colab_type": "code",
    "id": "phrKK96GF9wO"
   },
   "outputs": [],
   "source": [
    "from tensorflow.keras.preprocessing import text,sequence"
   ]
  },
  {
   "cell_type": "code",
   "execution_count": 53,
   "metadata": {
    "colab": {},
    "colab_type": "code",
    "id": "Rgy_pnPHGzLG"
   },
   "outputs": [],
   "source": [
    "xtrain_list = list(xtrain)\n",
    "xvalid_list = list(xvalid)\n",
    "# xtrain = list(train_data.text.values)\n",
    "xtest = list(test_data.text.values)"
   ]
  },
  {
   "cell_type": "code",
   "execution_count": 54,
   "metadata": {
    "colab": {},
    "colab_type": "code",
    "id": "axyaN4peBM5R"
   },
   "outputs": [],
   "source": [
    "# using keras tokenizer here\n",
    "token = text.Tokenizer(num_words=None , oov_token=\"<OOV>\")\n",
    "max_len = 80\n",
    "\n",
    "token.fit_on_texts(xtrain_list)\n",
    "xtrain_seq = token.texts_to_sequences(xtrain_list)\n",
    "xvalid_seq = token.texts_to_sequences(xvalid_list)\n",
    "\n",
    "# token.fit_on_texts(xtrain)\n",
    "# xtrain_seq = token.texts_to_sequences(xtrain)\n",
    "xtest_seq = token.texts_to_sequences(xtest)\n",
    "\n",
    "# zero pad the sequences\n",
    "xtrain_pad = sequence.pad_sequences(xtrain_seq , padding = 'post' , maxlen=max_len)\n",
    "xvalid_pad = sequence.pad_sequences(xvalid_seq , padding = 'post' , maxlen=max_len)\n",
    "xtest_pad = sequence.pad_sequences(xtest_seq, padding = 'post', maxlen=max_len)\n",
    "\n",
    "word_index = token.word_index"
   ]
  },
  {
   "cell_type": "code",
   "execution_count": 55,
   "metadata": {
    "colab": {
     "base_uri": "https://localhost:8080/",
     "height": 35
    },
    "colab_type": "code",
    "id": "HoSGqfhJlc2I",
    "outputId": "1258d2a3-644e-48a0-b8a3-8ae15121fa22"
   },
   "outputs": [
    {
     "data": {
      "text/plain": [
       "14488"
      ]
     },
     "execution_count": 55,
     "metadata": {
      "tags": []
     },
     "output_type": "execute_result"
    }
   ],
   "source": [
    "len(word_index)"
   ]
  },
  {
   "cell_type": "code",
   "execution_count": 56,
   "metadata": {
    "colab": {
     "base_uri": "https://localhost:8080/",
     "height": 35
    },
    "colab_type": "code",
    "id": "QKMVbNGN1i5A",
    "outputId": "c71f2bc6-49b5-485f-972a-50b0143e20b9"
   },
   "outputs": [
    {
     "data": {
      "text/plain": [
       "array([1, 0, 0, ..., 0, 0, 0])"
      ]
     },
     "execution_count": 56,
     "metadata": {
      "tags": []
     },
     "output_type": "execute_result"
    }
   ],
   "source": [
    "# ytrain = train_data.target.values\n",
    "ytrain"
   ]
  },
  {
   "cell_type": "code",
   "execution_count": 57,
   "metadata": {
    "colab": {
     "base_uri": "https://localhost:8080/",
     "height": 52
    },
    "colab_type": "code",
    "id": "dxAEeVSsKvlV",
    "outputId": "82fd12e9-926f-488c-b56a-e07a763a2b92"
   },
   "outputs": [
    {
     "name": "stderr",
     "output_type": "stream",
     "text": [
      "100%|██████████| 14488/14488 [00:00<00:00, 383720.16it/s]"
     ]
    },
    {
     "name": "stdout",
     "output_type": "stream",
     "text": [
      "Converted 11047 words (3441 misses)\n"
     ]
    },
    {
     "name": "stderr",
     "output_type": "stream",
     "text": [
      "\n"
     ]
    }
   ],
   "source": [
    "num_tokens = len(word_index) + 1\n",
    "embedding_dim = 300\n",
    "hits = 0\n",
    "misses = 0\n",
    "\n",
    "# Prepare embedding matrix\n",
    "embedding_matrix = np.zeros((num_tokens, embedding_dim))\n",
    "for word, i in tqdm(word_index.items()):\n",
    "    embedding_vector = glove_embeddings_index.get(word)\n",
    "    if embedding_vector is not None:\n",
    "        # Words not found in embedding index will be all-zeros.\n",
    "        # This includes the representation for \"padding\" and \"OOV\"\n",
    "        embedding_matrix[i] = embedding_vector\n",
    "        hits += 1\n",
    "    else:\n",
    "        misses += 1\n",
    "print(\"Converted %d words (%d misses)\" % (hits, misses))"
   ]
  },
  {
   "cell_type": "code",
   "execution_count": 58,
   "metadata": {
    "colab": {
     "base_uri": "https://localhost:8080/",
     "height": 35
    },
    "colab_type": "code",
    "id": "ecIz26jsvr8J",
    "outputId": "5a613230-ec48-4c90-f10f-c3ee0e8c5b1d"
   },
   "outputs": [
    {
     "data": {
      "text/plain": [
       "14489"
      ]
     },
     "execution_count": 58,
     "metadata": {
      "tags": []
     },
     "output_type": "execute_result"
    }
   ],
   "source": [
    "num_tokens"
   ]
  },
  {
   "cell_type": "markdown",
   "metadata": {},
   "source": [
    "## Model with Glove embeddings & LSTM"
   ]
  },
  {
   "cell_type": "code",
   "execution_count": 59,
   "metadata": {
    "colab": {
     "base_uri": "https://localhost:8080/",
     "height": 471
    },
    "colab_type": "code",
    "id": "qak67G7ZuBZk",
    "outputId": "05d8430f-7a32-4b27-a53f-3187e0c8b9ef"
   },
   "outputs": [
    {
     "name": "stdout",
     "output_type": "stream",
     "text": [
      "WARNING:tensorflow:Layer lstm_3 will not use cuDNN kernel since it doesn't meet the cuDNN kernel criteria. It will use generic GPU kernel as fallback when running on GPU\n",
      "Model: \"sequential_3\"\n",
      "_________________________________________________________________\n",
      "Layer (type)                 Output Shape              Param #   \n",
      "=================================================================\n",
      "embedding_3 (Embedding)      (None, 80, 300)           4346700   \n",
      "_________________________________________________________________\n",
      "spatial_dropout1d_3 (Spatial (None, 80, 300)           0         \n",
      "_________________________________________________________________\n",
      "lstm_3 (LSTM)                (None, 200)               400800    \n",
      "_________________________________________________________________\n",
      "dense_9 (Dense)              (None, 1024)              205824    \n",
      "_________________________________________________________________\n",
      "dropout_6 (Dropout)          (None, 1024)              0         \n",
      "_________________________________________________________________\n",
      "dense_10 (Dense)             (None, 512)               524800    \n",
      "_________________________________________________________________\n",
      "dropout_7 (Dropout)          (None, 512)               0         \n",
      "_________________________________________________________________\n",
      "dense_11 (Dense)             (None, 1)                 513       \n",
      "=================================================================\n",
      "Total params: 5,478,637\n",
      "Trainable params: 1,131,937\n",
      "Non-trainable params: 4,346,700\n",
      "_________________________________________________________________\n"
     ]
    }
   ],
   "source": [
    "#LSTM with glove embeddings\n",
    "model = tf.keras.Sequential([\n",
    "    tf.keras.layers.Embedding(num_tokens , embedding_dim,\n",
    "                              embeddings_initializer=keras.initializers.Constant(embedding_matrix),\n",
    "                              input_length = max_len ,\n",
    "                              trainable = False),\n",
    "   tf.keras.layers.SpatialDropout1D(0.3),\n",
    "   tf.keras.layers.LSTM(200, dropout=0.3, recurrent_dropout = 0.3),\n",
    "   tf.keras.layers.Dense(1024, activation = 'relu'),\n",
    "   tf.keras.layers.Dropout(0.8),\n",
    "   tf.keras.layers.Dense(512, activation = 'relu'),\n",
    "   tf.keras.layers.Dropout(0.8),\n",
    "   tf.keras.layers.Dense(1, activation = 'sigmoid')\n",
    "])\n",
    "\n",
    "model.compile(loss='binary_crossentropy',optimizer='adam',metrics=['accuracy',tf.keras.metrics.AUC()])\n",
    "model.summary()"
   ]
  },
  {
   "cell_type": "code",
   "execution_count": 60,
   "metadata": {
    "colab": {},
    "colab_type": "code",
    "id": "zyS_ERrd08y1"
   },
   "outputs": [],
   "source": [
    "from tensorflow.keras.callbacks import EarlyStopping\n",
    "# Fit the model with early stopping callback\n",
    "earlystop = EarlyStopping(monitor='val_loss', min_delta=0, patience=5, verbose=0, mode='auto')"
   ]
  },
  {
   "cell_type": "code",
   "execution_count": 61,
   "metadata": {
    "colab": {
     "base_uri": "https://localhost:8080/",
     "height": 817
    },
    "colab_type": "code",
    "id": "yWqv4y-iJJnq",
    "outputId": "ea4a4543-3a53-4e61-87f8-46154dcffb4e"
   },
   "outputs": [
    {
     "name": "stdout",
     "output_type": "stream",
     "text": [
      "Epoch 1/100\n",
      "12/12 [==============================] - 5s 439ms/step - loss: 0.6883 - accuracy: 0.5598 - auc_4: 0.4868 - val_loss: 0.6832 - val_accuracy: 0.5706 - val_auc_4: 0.5000\n",
      "Epoch 2/100\n",
      "12/12 [==============================] - 5s 418ms/step - loss: 0.6831 - accuracy: 0.5703 - auc_4: 0.5142 - val_loss: 0.6832 - val_accuracy: 0.5706 - val_auc_4: 0.5000\n",
      "Epoch 3/100\n",
      "12/12 [==============================] - 5s 413ms/step - loss: 0.6842 - accuracy: 0.5703 - auc_4: 0.4929 - val_loss: 0.6833 - val_accuracy: 0.5706 - val_auc_4: 0.5000\n",
      "Epoch 4/100\n",
      "12/12 [==============================] - 5s 419ms/step - loss: 0.6836 - accuracy: 0.5703 - auc_4: 0.5022 - val_loss: 0.6832 - val_accuracy: 0.5706 - val_auc_4: 0.5000\n",
      "Epoch 5/100\n",
      "12/12 [==============================] - 5s 402ms/step - loss: 0.6838 - accuracy: 0.5703 - auc_4: 0.5010 - val_loss: 0.6832 - val_accuracy: 0.5706 - val_auc_4: 0.5000\n",
      "Epoch 6/100\n",
      "12/12 [==============================] - 5s 402ms/step - loss: 0.6839 - accuracy: 0.5703 - auc_4: 0.5009 - val_loss: 0.6832 - val_accuracy: 0.5706 - val_auc_4: 0.5000\n",
      "Epoch 7/100\n",
      "12/12 [==============================] - 5s 391ms/step - loss: 0.6835 - accuracy: 0.5703 - auc_4: 0.5076 - val_loss: 0.6816 - val_accuracy: 0.5706 - val_auc_4: 0.6221\n",
      "Epoch 8/100\n",
      "12/12 [==============================] - 5s 408ms/step - loss: 0.6799 - accuracy: 0.5695 - auc_4: 0.5522 - val_loss: 0.6794 - val_accuracy: 0.5706 - val_auc_4: 0.6395\n",
      "Epoch 9/100\n",
      "12/12 [==============================] - 5s 395ms/step - loss: 0.6677 - accuracy: 0.5903 - auc_4: 0.6187 - val_loss: 0.6702 - val_accuracy: 0.5640 - val_auc_4: 0.6377\n",
      "Epoch 10/100\n",
      "12/12 [==============================] - 5s 398ms/step - loss: 0.6353 - accuracy: 0.6501 - auc_4: 0.6954 - val_loss: 0.5732 - val_accuracy: 0.7617 - val_auc_4: 0.8212\n",
      "Epoch 11/100\n",
      "12/12 [==============================] - 5s 402ms/step - loss: 0.5551 - accuracy: 0.7411 - auc_4: 0.7934 - val_loss: 0.4863 - val_accuracy: 0.7879 - val_auc_4: 0.8429\n",
      "Epoch 12/100\n",
      "12/12 [==============================] - 5s 393ms/step - loss: 0.5058 - accuracy: 0.7787 - auc_4: 0.8203 - val_loss: 0.4571 - val_accuracy: 0.7984 - val_auc_4: 0.8594\n",
      "Epoch 13/100\n",
      "12/12 [==============================] - 5s 393ms/step - loss: 0.4777 - accuracy: 0.7943 - auc_4: 0.8438 - val_loss: 0.4594 - val_accuracy: 0.8043 - val_auc_4: 0.8601\n",
      "Epoch 14/100\n",
      "12/12 [==============================] - 5s 404ms/step - loss: 0.4653 - accuracy: 0.7969 - auc_4: 0.8529 - val_loss: 0.4235 - val_accuracy: 0.8175 - val_auc_4: 0.8772\n",
      "Epoch 15/100\n",
      "12/12 [==============================] - 5s 398ms/step - loss: 0.4574 - accuracy: 0.7987 - auc_4: 0.8568 - val_loss: 0.4218 - val_accuracy: 0.8221 - val_auc_4: 0.8824\n",
      "Epoch 16/100\n",
      "12/12 [==============================] - 5s 411ms/step - loss: 0.4420 - accuracy: 0.8087 - auc_4: 0.8641 - val_loss: 0.4196 - val_accuracy: 0.8056 - val_auc_4: 0.8831\n",
      "Epoch 17/100\n",
      "12/12 [==============================] - 5s 411ms/step - loss: 0.4365 - accuracy: 0.8077 - auc_4: 0.8681 - val_loss: 0.4051 - val_accuracy: 0.8207 - val_auc_4: 0.8871\n",
      "Epoch 18/100\n",
      "12/12 [==============================] - 5s 410ms/step - loss: 0.4336 - accuracy: 0.8120 - auc_4: 0.8699 - val_loss: 0.4167 - val_accuracy: 0.8089 - val_auc_4: 0.8824\n",
      "Epoch 19/100\n",
      "12/12 [==============================] - 5s 396ms/step - loss: 0.4205 - accuracy: 0.8141 - auc_4: 0.8794 - val_loss: 0.4142 - val_accuracy: 0.8181 - val_auc_4: 0.8845\n",
      "Epoch 20/100\n",
      "12/12 [==============================] - 5s 399ms/step - loss: 0.4171 - accuracy: 0.8227 - auc_4: 0.8828 - val_loss: 0.4230 - val_accuracy: 0.8188 - val_auc_4: 0.8844\n",
      "Epoch 21/100\n",
      "12/12 [==============================] - 5s 403ms/step - loss: 0.4265 - accuracy: 0.8172 - auc_4: 0.8745 - val_loss: 0.4200 - val_accuracy: 0.8181 - val_auc_4: 0.8811\n",
      "Epoch 22/100\n",
      "12/12 [==============================] - 5s 394ms/step - loss: 0.4281 - accuracy: 0.8117 - auc_4: 0.8743 - val_loss: 0.4097 - val_accuracy: 0.8306 - val_auc_4: 0.8846\n"
     ]
    },
    {
     "data": {
      "text/plain": [
       "<tensorflow.python.keras.callbacks.History at 0x7f4d34f32208>"
      ]
     },
     "execution_count": 61,
     "metadata": {
      "tags": []
     },
     "output_type": "execute_result"
    }
   ],
   "source": [
    "model.fit(xtrain_pad, y=ytrain, batch_size=512, epochs=100, \n",
    "          verbose=1, validation_data = (xvalid_pad,yvalid), callbacks = [earlystop])\n",
    "# model.fit(xtrain_pad, y=ytrain, batch_size=512, epochs=100, \n",
    "#           verbose=1, validation_data = (xvalid_pad,yvalid))\n",
    "# model.fit(xtrain_pad, y=ytrain, batch_size=512, epochs=100, \n",
    "#           verbose=1)"
   ]
  },
  {
   "cell_type": "code",
   "execution_count": 67,
   "metadata": {
    "colab": {},
    "colab_type": "code",
    "id": "zUS7tt1Z1oAR"
   },
   "outputs": [],
   "source": [
    "model.save(\"model_with_glove_embeddings_LSTM.h5\")"
   ]
  },
  {
   "cell_type": "code",
   "execution_count": 63,
   "metadata": {
    "colab": {
     "base_uri": "https://localhost:8080/",
     "height": 139
    },
    "colab_type": "code",
    "id": "CUV3g_-zB2Mn",
    "outputId": "33ce207a-e110-4a2b-d527-3a1a2fa78297"
   },
   "outputs": [
    {
     "data": {
      "text/plain": [
       "array([[1],\n",
       "       [1],\n",
       "       [1],\n",
       "       ...,\n",
       "       [1],\n",
       "       [1],\n",
       "       [0]], dtype=int32)"
      ]
     },
     "execution_count": 63,
     "metadata": {
      "tags": []
     },
     "output_type": "execute_result"
    }
   ],
   "source": [
    "ypred = model.predict_classes(xtest_pad)\n",
    "ypred"
   ]
  },
  {
   "cell_type": "code",
   "execution_count": 64,
   "metadata": {
    "colab": {
     "base_uri": "https://localhost:8080/",
     "height": 35
    },
    "colab_type": "code",
    "id": "sw4kdA9DGAQP",
    "outputId": "8c2f7b92-be01-435e-b90c-1a8781e6e935"
   },
   "outputs": [
    {
     "data": {
      "text/plain": [
       "array([0, 1], dtype=int32)"
      ]
     },
     "execution_count": 64,
     "metadata": {
      "tags": []
     },
     "output_type": "execute_result"
    }
   ],
   "source": [
    "np.unique(ypred)"
   ]
  },
  {
   "cell_type": "code",
   "execution_count": 65,
   "metadata": {
    "colab": {
     "base_uri": "https://localhost:8080/",
     "height": 202
    },
    "colab_type": "code",
    "id": "lcU5b5olGVsr",
    "outputId": "e6f081a8-4519-467d-dc2e-c99c7b359e93"
   },
   "outputs": [
    {
     "data": {
      "text/html": [
       "<div>\n",
       "<style scoped>\n",
       "    .dataframe tbody tr th:only-of-type {\n",
       "        vertical-align: middle;\n",
       "    }\n",
       "\n",
       "    .dataframe tbody tr th {\n",
       "        vertical-align: top;\n",
       "    }\n",
       "\n",
       "    .dataframe thead th {\n",
       "        text-align: right;\n",
       "    }\n",
       "</style>\n",
       "<table border=\"1\" class=\"dataframe\">\n",
       "  <thead>\n",
       "    <tr style=\"text-align: right;\">\n",
       "      <th></th>\n",
       "      <th>id</th>\n",
       "      <th>target</th>\n",
       "    </tr>\n",
       "  </thead>\n",
       "  <tbody>\n",
       "    <tr>\n",
       "      <th>0</th>\n",
       "      <td>0</td>\n",
       "      <td>1</td>\n",
       "    </tr>\n",
       "    <tr>\n",
       "      <th>1</th>\n",
       "      <td>2</td>\n",
       "      <td>1</td>\n",
       "    </tr>\n",
       "    <tr>\n",
       "      <th>2</th>\n",
       "      <td>3</td>\n",
       "      <td>1</td>\n",
       "    </tr>\n",
       "    <tr>\n",
       "      <th>3</th>\n",
       "      <td>9</td>\n",
       "      <td>1</td>\n",
       "    </tr>\n",
       "    <tr>\n",
       "      <th>4</th>\n",
       "      <td>11</td>\n",
       "      <td>1</td>\n",
       "    </tr>\n",
       "  </tbody>\n",
       "</table>\n",
       "</div>"
      ],
      "text/plain": [
       "   id  target\n",
       "0   0       1\n",
       "1   2       1\n",
       "2   3       1\n",
       "3   9       1\n",
       "4  11       1"
      ]
     },
     "execution_count": 65,
     "metadata": {
      "tags": []
     },
     "output_type": "execute_result"
    }
   ],
   "source": [
    "# Submission\n",
    "sample_submission = pd.read_csv(r\"/content/drive/My Drive/Data_disaster_real_tweets/sample_submission.csv\")\n",
    "sample_submission[\"target\"] = ypred\n",
    "sample_submission.head()\n"
   ]
  },
  {
   "cell_type": "code",
   "execution_count": 66,
   "metadata": {
    "colab": {},
    "colab_type": "code",
    "id": "c5rjbgXtGIPR"
   },
   "outputs": [],
   "source": [
    "sample_submission.to_csv(\"submission_glove_word_vecs_LSTM_ES.csv\", index=False)"
   ]
  },
  {
   "cell_type": "markdown",
   "metadata": {
    "colab_type": "text",
    "id": "JVrJylqwHWNb"
   },
   "source": [
    "0.80140 -> Kaggle score after submission"
   ]
  },
  {
   "cell_type": "markdown",
   "metadata": {
    "colab_type": "text",
    "id": "1pnTcUgQOWPz"
   },
   "source": [
    "## Build a model with Glove embeddings & Bidirectional LSTM"
   ]
  },
  {
   "cell_type": "code",
   "execution_count": 68,
   "metadata": {
    "colab": {
     "base_uri": "https://localhost:8080/",
     "height": 505
    },
    "colab_type": "code",
    "id": "kqjM80tqOf4G",
    "outputId": "74b3fc62-bfa0-4d55-9333-eb264ac06130"
   },
   "outputs": [
    {
     "name": "stdout",
     "output_type": "stream",
     "text": [
      "WARNING:tensorflow:Layer lstm_4 will not use cuDNN kernel since it doesn't meet the cuDNN kernel criteria. It will use generic GPU kernel as fallback when running on GPU\n",
      "WARNING:tensorflow:Layer lstm_4 will not use cuDNN kernel since it doesn't meet the cuDNN kernel criteria. It will use generic GPU kernel as fallback when running on GPU\n",
      "WARNING:tensorflow:Layer lstm_4 will not use cuDNN kernel since it doesn't meet the cuDNN kernel criteria. It will use generic GPU kernel as fallback when running on GPU\n",
      "Model: \"sequential_4\"\n",
      "_________________________________________________________________\n",
      "Layer (type)                 Output Shape              Param #   \n",
      "=================================================================\n",
      "embedding_4 (Embedding)      (None, 80, 300)           4346700   \n",
      "_________________________________________________________________\n",
      "spatial_dropout1d_4 (Spatial (None, 80, 300)           0         \n",
      "_________________________________________________________________\n",
      "bidirectional (Bidirectional (None, 600)               1442400   \n",
      "_________________________________________________________________\n",
      "dense_12 (Dense)             (None, 1024)              615424    \n",
      "_________________________________________________________________\n",
      "dropout_8 (Dropout)          (None, 1024)              0         \n",
      "_________________________________________________________________\n",
      "dense_13 (Dense)             (None, 512)               524800    \n",
      "_________________________________________________________________\n",
      "dropout_9 (Dropout)          (None, 512)               0         \n",
      "_________________________________________________________________\n",
      "dense_14 (Dense)             (None, 1)                 513       \n",
      "=================================================================\n",
      "Total params: 6,929,837\n",
      "Trainable params: 2,583,137\n",
      "Non-trainable params: 4,346,700\n",
      "_________________________________________________________________\n"
     ]
    }
   ],
   "source": [
    "#LSTM with glove embeddings\n",
    "model_Bi_lstm = tf.keras.Sequential([\n",
    "    tf.keras.layers.Embedding(num_tokens , embedding_dim,\n",
    "                              embeddings_initializer=keras.initializers.Constant(embedding_matrix),\n",
    "                              input_length = max_len ,\n",
    "                              trainable = False),\n",
    "   tf.keras.layers.SpatialDropout1D(0.3),\n",
    "   tf.keras.layers.Bidirectional(tf.keras.layers.LSTM(300, dropout=0.3, recurrent_dropout = 0.3)),\n",
    "   tf.keras.layers.Dense(1024, activation = 'relu'),\n",
    "   tf.keras.layers.Dropout(0.8),\n",
    "   tf.keras.layers.Dense(512, activation = 'relu'),\n",
    "   tf.keras.layers.Dropout(0.8),\n",
    "   tf.keras.layers.Dense(1, activation = 'sigmoid')\n",
    "])\n",
    "\n",
    "model_Bi_lstm.compile(loss='binary_crossentropy',optimizer='adam',metrics=['accuracy',tf.keras.metrics.AUC()])\n",
    "model_Bi_lstm.summary()"
   ]
  },
  {
   "cell_type": "code",
   "execution_count": 69,
   "metadata": {
    "colab": {
     "base_uri": "https://localhost:8080/",
     "height": 1000
    },
    "colab_type": "code",
    "id": "RnHFVkp1PdkJ",
    "outputId": "a195888f-9288-4e40-e0f5-f58b6eb3f897"
   },
   "outputs": [
    {
     "name": "stdout",
     "output_type": "stream",
     "text": [
      "Epoch 1/100\n",
      "12/12 [==============================] - 11s 896ms/step - loss: 0.6305 - accuracy: 0.6340 - auc_5: 0.6810 - val_loss: 0.5022 - val_accuracy: 0.7485 - val_auc_5: 0.8371\n",
      "Epoch 2/100\n",
      "12/12 [==============================] - 10s 857ms/step - loss: 0.5113 - accuracy: 0.7672 - auc_5: 0.8204 - val_loss: 0.4509 - val_accuracy: 0.8155 - val_auc_5: 0.8696\n",
      "Epoch 3/100\n",
      "12/12 [==============================] - 10s 826ms/step - loss: 0.4669 - accuracy: 0.7982 - auc_5: 0.8459 - val_loss: 0.4284 - val_accuracy: 0.8162 - val_auc_5: 0.8753\n",
      "Epoch 4/100\n",
      "12/12 [==============================] - 10s 834ms/step - loss: 0.4535 - accuracy: 0.8028 - auc_5: 0.8566 - val_loss: 0.4204 - val_accuracy: 0.8194 - val_auc_5: 0.8815\n",
      "Epoch 5/100\n",
      "12/12 [==============================] - 10s 844ms/step - loss: 0.4564 - accuracy: 0.7961 - auc_5: 0.8551 - val_loss: 0.4383 - val_accuracy: 0.8175 - val_auc_5: 0.8832\n",
      "Epoch 6/100\n",
      "12/12 [==============================] - 10s 822ms/step - loss: 0.4413 - accuracy: 0.8021 - auc_5: 0.8663 - val_loss: 0.4170 - val_accuracy: 0.8214 - val_auc_5: 0.8835\n",
      "Epoch 7/100\n",
      "12/12 [==============================] - 10s 826ms/step - loss: 0.4336 - accuracy: 0.8090 - auc_5: 0.8723 - val_loss: 0.4093 - val_accuracy: 0.8260 - val_auc_5: 0.8867\n",
      "Epoch 8/100\n",
      "12/12 [==============================] - 10s 827ms/step - loss: 0.4223 - accuracy: 0.8153 - auc_5: 0.8788 - val_loss: 0.4110 - val_accuracy: 0.8168 - val_auc_5: 0.8832\n",
      "Epoch 9/100\n",
      "12/12 [==============================] - 10s 815ms/step - loss: 0.4223 - accuracy: 0.8135 - auc_5: 0.8774 - val_loss: 0.4109 - val_accuracy: 0.8188 - val_auc_5: 0.8859\n",
      "Epoch 10/100\n",
      "12/12 [==============================] - 10s 833ms/step - loss: 0.4160 - accuracy: 0.8164 - auc_5: 0.8809 - val_loss: 0.4168 - val_accuracy: 0.8168 - val_auc_5: 0.8855\n",
      "Epoch 11/100\n",
      "12/12 [==============================] - 10s 823ms/step - loss: 0.4078 - accuracy: 0.8182 - auc_5: 0.8835 - val_loss: 0.4129 - val_accuracy: 0.8234 - val_auc_5: 0.8876\n",
      "Epoch 12/100\n",
      "12/12 [==============================] - 10s 802ms/step - loss: 0.4045 - accuracy: 0.8202 - auc_5: 0.8874 - val_loss: 0.4073 - val_accuracy: 0.8280 - val_auc_5: 0.8867\n",
      "Epoch 13/100\n",
      "12/12 [==============================] - 10s 808ms/step - loss: 0.3997 - accuracy: 0.8223 - auc_5: 0.8888 - val_loss: 0.4124 - val_accuracy: 0.8267 - val_auc_5: 0.8877\n",
      "Epoch 14/100\n",
      "12/12 [==============================] - 10s 810ms/step - loss: 0.3911 - accuracy: 0.8282 - auc_5: 0.8952 - val_loss: 0.4409 - val_accuracy: 0.8135 - val_auc_5: 0.8869\n",
      "Epoch 15/100\n",
      "12/12 [==============================] - 10s 807ms/step - loss: 0.3829 - accuracy: 0.8255 - auc_5: 0.8996 - val_loss: 0.4150 - val_accuracy: 0.8365 - val_auc_5: 0.8878\n",
      "Epoch 16/100\n",
      "12/12 [==============================] - 10s 802ms/step - loss: 0.3860 - accuracy: 0.8291 - auc_5: 0.8990 - val_loss: 0.4048 - val_accuracy: 0.8339 - val_auc_5: 0.8888\n",
      "Epoch 17/100\n",
      "12/12 [==============================] - 10s 805ms/step - loss: 0.3745 - accuracy: 0.8312 - auc_5: 0.9030 - val_loss: 0.4110 - val_accuracy: 0.8326 - val_auc_5: 0.8888\n",
      "Epoch 18/100\n",
      "12/12 [==============================] - 9s 786ms/step - loss: 0.3659 - accuracy: 0.8378 - auc_5: 0.9084 - val_loss: 0.4289 - val_accuracy: 0.8175 - val_auc_5: 0.8839\n",
      "Epoch 19/100\n",
      "12/12 [==============================] - 9s 790ms/step - loss: 0.3577 - accuracy: 0.8419 - auc_5: 0.9118 - val_loss: 0.4251 - val_accuracy: 0.8286 - val_auc_5: 0.8871\n",
      "Epoch 20/100\n",
      "12/12 [==============================] - 10s 797ms/step - loss: 0.3559 - accuracy: 0.8475 - auc_5: 0.9146 - val_loss: 0.4301 - val_accuracy: 0.8247 - val_auc_5: 0.8892\n",
      "Epoch 21/100\n",
      "12/12 [==============================] - 9s 787ms/step - loss: 0.3338 - accuracy: 0.8545 - auc_5: 0.9247 - val_loss: 0.4328 - val_accuracy: 0.8267 - val_auc_5: 0.8843\n",
      "Epoch 22/100\n",
      "12/12 [==============================] - 10s 796ms/step - loss: 0.3322 - accuracy: 0.8571 - auc_5: 0.9252 - val_loss: 0.4290 - val_accuracy: 0.8273 - val_auc_5: 0.8880\n",
      "Epoch 23/100\n",
      "12/12 [==============================] - 10s 828ms/step - loss: 0.3271 - accuracy: 0.8593 - auc_5: 0.9273 - val_loss: 0.4408 - val_accuracy: 0.8260 - val_auc_5: 0.8885\n",
      "Epoch 24/100\n",
      "12/12 [==============================] - 10s 813ms/step - loss: 0.3245 - accuracy: 0.8626 - auc_5: 0.9281 - val_loss: 0.4406 - val_accuracy: 0.8286 - val_auc_5: 0.8836\n",
      "Epoch 25/100\n",
      "12/12 [==============================] - 10s 809ms/step - loss: 0.3090 - accuracy: 0.8678 - auc_5: 0.9356 - val_loss: 0.4288 - val_accuracy: 0.8280 - val_auc_5: 0.8820\n",
      "Epoch 26/100\n",
      "12/12 [==============================] - 10s 827ms/step - loss: 0.3017 - accuracy: 0.8732 - auc_5: 0.9392 - val_loss: 0.4432 - val_accuracy: 0.8319 - val_auc_5: 0.8793\n",
      "Epoch 27/100\n",
      "12/12 [==============================] - 10s 806ms/step - loss: 0.2898 - accuracy: 0.8773 - auc_5: 0.9434 - val_loss: 0.4323 - val_accuracy: 0.8339 - val_auc_5: 0.8813\n",
      "Epoch 28/100\n",
      "12/12 [==============================] - 10s 807ms/step - loss: 0.2824 - accuracy: 0.8760 - auc_5: 0.9459 - val_loss: 0.4992 - val_accuracy: 0.8168 - val_auc_5: 0.8841\n",
      "Epoch 29/100\n",
      "12/12 [==============================] - 10s 812ms/step - loss: 0.2769 - accuracy: 0.8806 - auc_5: 0.9478 - val_loss: 0.5179 - val_accuracy: 0.8037 - val_auc_5: 0.8765\n",
      "Epoch 30/100\n",
      "12/12 [==============================] - 10s 810ms/step - loss: 0.2650 - accuracy: 0.8867 - auc_5: 0.9544 - val_loss: 0.4799 - val_accuracy: 0.8201 - val_auc_5: 0.8733\n",
      "Epoch 31/100\n",
      "12/12 [==============================] - 10s 826ms/step - loss: 0.2591 - accuracy: 0.8921 - auc_5: 0.9545 - val_loss: 0.5174 - val_accuracy: 0.8194 - val_auc_5: 0.8780\n"
     ]
    }
   ],
   "source": [
    "from tensorflow.keras.callbacks import EarlyStopping\n",
    "# Fit the model with early stopping callback\n",
    "earlystop = EarlyStopping(monitor='val_loss', min_delta=0, patience=15, verbose=0, mode='auto')\n",
    "\n",
    "model_Bi_lstm.fit(xtrain_pad, y=ytrain, batch_size=512, epochs=100, \n",
    "          verbose=1, validation_data = (xvalid_pad,yvalid), callbacks = [earlystop])\n",
    "model_Bi_lstm.save('model_with_glove_embeddings_Bidire_LSTM.h5')\n",
    "\n"
   ]
  },
  {
   "cell_type": "code",
   "execution_count": 70,
   "metadata": {
    "colab": {},
    "colab_type": "code",
    "id": "fEHaqxlVSBGL"
   },
   "outputs": [],
   "source": [
    "sample_submission = pd.read_csv(r\"/content/drive/My Drive/Data_disaster_real_tweets/sample_submission.csv\")\n",
    "sample_submission[\"target\"] = model_Bi_lstm.predict_classes(xtest_pad)\n",
    "sample_submission.to_csv(\"submission_glove_word_vecs_Bidire_LSTM_ES.csv\", index=False)"
   ]
  },
  {
   "cell_type": "markdown",
   "metadata": {},
   "source": [
    "**Model with unidirectional LSTM gives better results than with Bidirectional LSTM & now Let's train the entire data set on Unidirectional LSTM model***"
   ]
  },
  {
   "cell_type": "markdown",
   "metadata": {
    "colab_type": "text",
    "id": "-cb6Arw4Hb1A"
   },
   "source": [
    "## Let's try to fit the model to entire data set"
   ]
  },
  {
   "cell_type": "code",
   "execution_count": 34,
   "metadata": {
    "colab": {
     "base_uri": "https://localhost:8080/",
     "height": 52
    },
    "colab_type": "code",
    "id": "PpBbymhNG910",
    "outputId": "f4f62312-8bdc-4ed0-f1f5-c205994e41b9"
   },
   "outputs": [
    {
     "name": "stderr",
     "output_type": "stream",
     "text": [
      "100%|██████████| 16593/16593 [00:00<00:00, 351218.67it/s]"
     ]
    },
    {
     "name": "stdout",
     "output_type": "stream",
     "text": [
      "Converted 12386 words (4207 misses)\n"
     ]
    },
    {
     "name": "stderr",
     "output_type": "stream",
     "text": [
      "\n"
     ]
    }
   ],
   "source": [
    "xtrain = list(train_data.text.values)\n",
    "xtest = list(test_data.text.values)\n",
    "\n",
    "# using keras tokenizer here\n",
    "token = text.Tokenizer(num_words=None , oov_token=\"<OOV>\")\n",
    "max_len = 80\n",
    "\n",
    "token.fit_on_texts(xtrain)\n",
    "xtrain_seq = token.texts_to_sequences(xtrain)\n",
    "xtest_seq = token.texts_to_sequences(xtest)\n",
    "\n",
    "# zero pad the sequences\n",
    "xtrain_pad = sequence.pad_sequences(xtrain_seq , padding = 'post' , maxlen=max_len)\n",
    "xtest_pad = sequence.pad_sequences(xtest_seq, padding = 'post', maxlen=max_len)\n",
    "\n",
    "word_index = token.word_index\n",
    "\n",
    "ytrain = train_data.target.values\n",
    "\n",
    "num_tokens = len(word_index) + 1\n",
    "embedding_dim = 300\n",
    "hits = 0\n",
    "misses = 0\n",
    "\n",
    "# Prepare embedding matrix\n",
    "embedding_matrix = np.zeros((num_tokens, embedding_dim))\n",
    "for word, i in tqdm(word_index.items()):\n",
    "    embedding_vector = glove_embeddings_index.get(word)\n",
    "    if embedding_vector is not None:\n",
    "        # Words not found in embedding index will be all-zeros.\n",
    "        # This includes the representation for \"padding\" and \"OOV\"\n",
    "        embedding_matrix[i] = embedding_vector\n",
    "        hits += 1\n",
    "    else:\n",
    "        misses += 1\n",
    "print(\"Converted %d words (%d misses)\" % (hits, misses))"
   ]
  },
  {
   "cell_type": "code",
   "execution_count": 39,
   "metadata": {
    "colab": {
     "base_uri": "https://localhost:8080/",
     "height": 35
    },
    "colab_type": "code",
    "id": "knw5JalVI1y-",
    "outputId": "88e45353-fe35-4a7c-9cd6-362bfe70eb90"
   },
   "outputs": [
    {
     "data": {
      "text/plain": [
       "16594"
      ]
     },
     "execution_count": 39,
     "metadata": {
      "tags": []
     },
     "output_type": "execute_result"
    }
   ],
   "source": [
    "num_tokens"
   ]
  },
  {
   "cell_type": "code",
   "execution_count": 41,
   "metadata": {
    "colab": {
     "base_uri": "https://localhost:8080/",
     "height": 471
    },
    "colab_type": "code",
    "id": "TXnPicOJIHkV",
    "outputId": "c5e5c1ed-65d9-4d8d-9116-41d1f552c5ac"
   },
   "outputs": [
    {
     "name": "stdout",
     "output_type": "stream",
     "text": [
      "WARNING:tensorflow:Layer lstm_2 will not use cuDNN kernel since it doesn't meet the cuDNN kernel criteria. It will use generic GPU kernel as fallback when running on GPU\n",
      "Model: \"sequential_2\"\n",
      "_________________________________________________________________\n",
      "Layer (type)                 Output Shape              Param #   \n",
      "=================================================================\n",
      "embedding_2 (Embedding)      (None, 80, 300)           4978200   \n",
      "_________________________________________________________________\n",
      "spatial_dropout1d_2 (Spatial (None, 80, 300)           0         \n",
      "_________________________________________________________________\n",
      "lstm_2 (LSTM)                (None, 200)               400800    \n",
      "_________________________________________________________________\n",
      "dense_6 (Dense)              (None, 1024)              205824    \n",
      "_________________________________________________________________\n",
      "dropout_4 (Dropout)          (None, 1024)              0         \n",
      "_________________________________________________________________\n",
      "dense_7 (Dense)              (None, 512)               524800    \n",
      "_________________________________________________________________\n",
      "dropout_5 (Dropout)          (None, 512)               0         \n",
      "_________________________________________________________________\n",
      "dense_8 (Dense)              (None, 1)                 513       \n",
      "=================================================================\n",
      "Total params: 6,110,137\n",
      "Trainable params: 1,131,937\n",
      "Non-trainable params: 4,978,200\n",
      "_________________________________________________________________\n"
     ]
    }
   ],
   "source": [
    "#LSTM with glove embeddings\n",
    "model_1 = tf.keras.Sequential([\n",
    "    tf.keras.layers.Embedding(num_tokens , embedding_dim,\n",
    "                              embeddings_initializer=keras.initializers.Constant(embedding_matrix),\n",
    "                              input_length = max_len ,\n",
    "                              trainable = False),\n",
    "   tf.keras.layers.SpatialDropout1D(0.3),\n",
    "   tf.keras.layers.LSTM(200, dropout=0.3, recurrent_dropout = 0.3),\n",
    "   tf.keras.layers.Dense(1024, activation = 'relu'),\n",
    "   tf.keras.layers.Dropout(0.8),\n",
    "   tf.keras.layers.Dense(512, activation = 'relu'),\n",
    "   tf.keras.layers.Dropout(0.8),\n",
    "   tf.keras.layers.Dense(1, activation = 'sigmoid')\n",
    "])\n",
    "\n",
    "model_1.compile(loss='binary_crossentropy',optimizer='adam',metrics=['accuracy',tf.keras.metrics.AUC()])\n",
    "model_1.summary()"
   ]
  },
  {
   "cell_type": "code",
   "execution_count": 42,
   "metadata": {
    "colab": {
     "base_uri": "https://localhost:8080/",
     "height": 1000
    },
    "colab_type": "code",
    "id": "z4LmU99BIMON",
    "outputId": "4ff76986-bbf5-48d6-9597-eca8622b751a"
   },
   "outputs": [
    {
     "name": "stdout",
     "output_type": "stream",
     "text": [
      "Epoch 1/100\n",
      "15/15 [==============================] - 6s 373ms/step - loss: 0.6868 - accuracy: 0.5657 - auc_3: 0.5015\n",
      "Epoch 2/100\n",
      "15/15 [==============================] - 6s 382ms/step - loss: 0.6839 - accuracy: 0.5703 - auc_3: 0.4978\n",
      "Epoch 3/100\n",
      "15/15 [==============================] - 6s 381ms/step - loss: 0.6825 - accuracy: 0.5703 - auc_3: 0.5093\n",
      "Epoch 4/100\n",
      "15/15 [==============================] - 6s 381ms/step - loss: 0.5852 - accuracy: 0.6976 - auc_3: 0.7523\n",
      "Epoch 5/100\n",
      "15/15 [==============================] - 6s 381ms/step - loss: 0.5335 - accuracy: 0.7563 - auc_3: 0.8085\n",
      "Epoch 6/100\n",
      "15/15 [==============================] - 6s 373ms/step - loss: 0.5029 - accuracy: 0.7889 - auc_3: 0.8255\n",
      "Epoch 7/100\n",
      "15/15 [==============================] - 6s 381ms/step - loss: 0.4750 - accuracy: 0.8002 - auc_3: 0.8413\n",
      "Epoch 8/100\n",
      "15/15 [==============================] - 6s 373ms/step - loss: 0.4673 - accuracy: 0.8017 - auc_3: 0.8473\n",
      "Epoch 9/100\n",
      "15/15 [==============================] - 6s 375ms/step - loss: 0.4640 - accuracy: 0.7959 - auc_3: 0.8541\n",
      "Epoch 10/100\n",
      "15/15 [==============================] - 6s 377ms/step - loss: 0.4516 - accuracy: 0.8112 - auc_3: 0.8622\n",
      "Epoch 11/100\n",
      "15/15 [==============================] - 6s 386ms/step - loss: 0.4441 - accuracy: 0.8105 - auc_3: 0.8596\n",
      "Epoch 12/100\n",
      "15/15 [==============================] - 6s 382ms/step - loss: 0.4313 - accuracy: 0.8140 - auc_3: 0.8712\n",
      "Epoch 13/100\n",
      "15/15 [==============================] - 6s 376ms/step - loss: 0.4410 - accuracy: 0.8080 - auc_3: 0.8616\n",
      "Epoch 14/100\n",
      "15/15 [==============================] - 6s 382ms/step - loss: 0.4259 - accuracy: 0.8153 - auc_3: 0.8735\n",
      "Epoch 15/100\n",
      "15/15 [==============================] - 6s 381ms/step - loss: 0.4150 - accuracy: 0.8206 - auc_3: 0.8788\n",
      "Epoch 16/100\n",
      "15/15 [==============================] - 6s 372ms/step - loss: 0.4137 - accuracy: 0.8195 - auc_3: 0.8799\n",
      "Epoch 17/100\n",
      "15/15 [==============================] - 6s 378ms/step - loss: 0.4067 - accuracy: 0.8191 - auc_3: 0.8842\n",
      "Epoch 18/100\n",
      "15/15 [==============================] - 6s 383ms/step - loss: 0.4142 - accuracy: 0.8236 - auc_3: 0.8822\n",
      "Epoch 19/100\n",
      "15/15 [==============================] - 6s 373ms/step - loss: 0.4005 - accuracy: 0.8257 - auc_3: 0.8892\n",
      "Epoch 20/100\n",
      "15/15 [==============================] - 6s 374ms/step - loss: 0.3997 - accuracy: 0.8278 - auc_3: 0.8900\n",
      "Epoch 21/100\n",
      "15/15 [==============================] - 6s 378ms/step - loss: 0.3994 - accuracy: 0.8278 - auc_3: 0.8896\n",
      "Epoch 22/100\n",
      "15/15 [==============================] - 6s 375ms/step - loss: 0.3900 - accuracy: 0.8363 - auc_3: 0.8906\n",
      "Epoch 23/100\n",
      "15/15 [==============================] - 6s 378ms/step - loss: 0.3869 - accuracy: 0.8374 - auc_3: 0.8962\n",
      "Epoch 24/100\n",
      "15/15 [==============================] - 5s 366ms/step - loss: 0.3737 - accuracy: 0.8403 - auc_3: 0.9042\n",
      "Epoch 25/100\n",
      "15/15 [==============================] - 6s 369ms/step - loss: 0.3784 - accuracy: 0.8415 - auc_3: 0.8984\n",
      "Epoch 26/100\n",
      "15/15 [==============================] - 6s 376ms/step - loss: 0.3689 - accuracy: 0.8450 - auc_3: 0.9033\n",
      "Epoch 27/100\n",
      "15/15 [==============================] - 6s 374ms/step - loss: 0.3651 - accuracy: 0.8479 - auc_3: 0.9053\n",
      "Epoch 28/100\n",
      "15/15 [==============================] - 6s 380ms/step - loss: 0.3519 - accuracy: 0.8543 - auc_3: 0.9149\n",
      "Epoch 29/100\n",
      "15/15 [==============================] - 6s 373ms/step - loss: 0.3564 - accuracy: 0.8463 - auc_3: 0.9111\n",
      "Epoch 30/100\n",
      "15/15 [==============================] - 6s 370ms/step - loss: 0.3531 - accuracy: 0.8555 - auc_3: 0.9132\n",
      "Epoch 31/100\n",
      "15/15 [==============================] - 6s 374ms/step - loss: 0.3460 - accuracy: 0.8512 - auc_3: 0.9172\n",
      "Epoch 32/100\n",
      "15/15 [==============================] - 5s 365ms/step - loss: 0.3282 - accuracy: 0.8663 - auc_3: 0.9230\n",
      "Epoch 33/100\n",
      "15/15 [==============================] - 6s 371ms/step - loss: 0.3430 - accuracy: 0.8609 - auc_3: 0.9173\n",
      "Epoch 34/100\n",
      "15/15 [==============================] - 6s 374ms/step - loss: 0.3329 - accuracy: 0.8669 - auc_3: 0.9202\n",
      "Epoch 35/100\n",
      "15/15 [==============================] - 6s 385ms/step - loss: 0.3272 - accuracy: 0.8629 - auc_3: 0.9263\n",
      "Epoch 36/100\n",
      "15/15 [==============================] - 6s 373ms/step - loss: 0.3380 - accuracy: 0.8619 - auc_3: 0.9221\n",
      "Epoch 37/100\n",
      "15/15 [==============================] - 6s 367ms/step - loss: 0.3162 - accuracy: 0.8705 - auc_3: 0.9304\n",
      "Epoch 38/100\n",
      "15/15 [==============================] - 6s 369ms/step - loss: 0.3033 - accuracy: 0.8744 - auc_3: 0.9370\n",
      "Epoch 39/100\n",
      "15/15 [==============================] - 6s 376ms/step - loss: 0.2888 - accuracy: 0.8793 - auc_3: 0.9425\n",
      "Epoch 40/100\n",
      "15/15 [==============================] - 6s 375ms/step - loss: 0.2876 - accuracy: 0.8848 - auc_3: 0.9430\n",
      "Epoch 41/100\n",
      "15/15 [==============================] - 6s 374ms/step - loss: 0.2922 - accuracy: 0.8760 - auc_3: 0.9428\n",
      "Epoch 42/100\n",
      "15/15 [==============================] - 6s 367ms/step - loss: 0.2853 - accuracy: 0.8852 - auc_3: 0.9439\n",
      "Epoch 43/100\n",
      "15/15 [==============================] - 6s 370ms/step - loss: 0.2905 - accuracy: 0.8853 - auc_3: 0.9408\n",
      "Epoch 44/100\n",
      "15/15 [==============================] - 5s 366ms/step - loss: 0.2762 - accuracy: 0.8916 - auc_3: 0.9478\n",
      "Epoch 45/100\n",
      "15/15 [==============================] - 6s 369ms/step - loss: 0.2741 - accuracy: 0.8910 - auc_3: 0.9491\n",
      "Epoch 46/100\n",
      "15/15 [==============================] - 6s 368ms/step - loss: 0.2736 - accuracy: 0.8911 - auc_3: 0.9494\n",
      "Epoch 47/100\n",
      "15/15 [==============================] - 6s 379ms/step - loss: 0.2815 - accuracy: 0.8895 - auc_3: 0.9457\n",
      "Epoch 48/100\n",
      "15/15 [==============================] - 6s 375ms/step - loss: 0.2611 - accuracy: 0.8995 - auc_3: 0.9526\n",
      "Epoch 49/100\n",
      "15/15 [==============================] - 5s 366ms/step - loss: 0.2399 - accuracy: 0.9075 - auc_3: 0.9606\n",
      "Epoch 50/100\n",
      "15/15 [==============================] - 6s 376ms/step - loss: 0.2445 - accuracy: 0.9054 - auc_3: 0.9586\n",
      "Epoch 51/100\n",
      "15/15 [==============================] - 6s 377ms/step - loss: 0.2410 - accuracy: 0.9061 - auc_3: 0.9615\n",
      "Epoch 52/100\n",
      "15/15 [==============================] - 6s 375ms/step - loss: 0.2475 - accuracy: 0.9040 - auc_3: 0.9596\n",
      "Epoch 53/100\n",
      "15/15 [==============================] - 6s 370ms/step - loss: 0.2469 - accuracy: 0.9066 - auc_3: 0.9588\n",
      "Epoch 54/100\n",
      "15/15 [==============================] - 6s 368ms/step - loss: 0.2219 - accuracy: 0.9141 - auc_3: 0.9674\n",
      "Epoch 55/100\n",
      "15/15 [==============================] - 5s 365ms/step - loss: 0.2291 - accuracy: 0.9157 - auc_3: 0.9628\n",
      "Epoch 56/100\n",
      "15/15 [==============================] - 5s 364ms/step - loss: 0.2211 - accuracy: 0.9125 - auc_3: 0.9672\n",
      "Epoch 57/100\n",
      "15/15 [==============================] - 6s 374ms/step - loss: 0.2135 - accuracy: 0.9145 - auc_3: 0.9687\n",
      "Epoch 58/100\n",
      "15/15 [==============================] - 6s 370ms/step - loss: 0.2104 - accuracy: 0.9165 - auc_3: 0.9704\n",
      "Epoch 59/100\n",
      "15/15 [==============================] - 6s 370ms/step - loss: 0.1968 - accuracy: 0.9226 - auc_3: 0.9734\n",
      "Epoch 60/100\n",
      "15/15 [==============================] - 6s 375ms/step - loss: 0.1978 - accuracy: 0.9228 - auc_3: 0.9739\n",
      "Epoch 61/100\n",
      "15/15 [==============================] - 5s 365ms/step - loss: 0.2152 - accuracy: 0.9144 - auc_3: 0.9695\n",
      "Epoch 62/100\n",
      "15/15 [==============================] - 5s 366ms/step - loss: 0.2118 - accuracy: 0.9171 - auc_3: 0.9705\n",
      "Epoch 63/100\n",
      "15/15 [==============================] - 6s 369ms/step - loss: 0.2007 - accuracy: 0.9257 - auc_3: 0.9726\n",
      "Epoch 64/100\n",
      "15/15 [==============================] - 5s 365ms/step - loss: 0.2039 - accuracy: 0.9180 - auc_3: 0.9722\n",
      "Epoch 65/100\n",
      "15/15 [==============================] - 5s 366ms/step - loss: 0.2011 - accuracy: 0.9230 - auc_3: 0.9735\n",
      "Epoch 66/100\n",
      "15/15 [==============================] - 6s 368ms/step - loss: 0.1697 - accuracy: 0.9318 - auc_3: 0.9811\n",
      "Epoch 67/100\n",
      "15/15 [==============================] - 5s 363ms/step - loss: 0.1720 - accuracy: 0.9326 - auc_3: 0.9800\n",
      "Epoch 68/100\n",
      "15/15 [==============================] - 6s 374ms/step - loss: 0.1823 - accuracy: 0.9301 - auc_3: 0.9774\n",
      "Epoch 69/100\n",
      "15/15 [==============================] - 6s 373ms/step - loss: 0.1939 - accuracy: 0.9266 - auc_3: 0.9750\n",
      "Epoch 70/100\n",
      "15/15 [==============================] - 5s 367ms/step - loss: 0.1904 - accuracy: 0.9312 - auc_3: 0.9768\n",
      "Epoch 71/100\n",
      "15/15 [==============================] - 5s 364ms/step - loss: 0.1661 - accuracy: 0.9350 - auc_3: 0.9817\n",
      "Epoch 72/100\n",
      "15/15 [==============================] - 5s 359ms/step - loss: 0.1575 - accuracy: 0.9398 - auc_3: 0.9837\n",
      "Epoch 73/100\n",
      "15/15 [==============================] - 6s 367ms/step - loss: 0.1695 - accuracy: 0.9346 - auc_3: 0.9808\n",
      "Epoch 74/100\n",
      "15/15 [==============================] - 6s 367ms/step - loss: 0.1619 - accuracy: 0.9413 - auc_3: 0.9823\n",
      "Epoch 75/100\n",
      "15/15 [==============================] - 6s 368ms/step - loss: 0.1491 - accuracy: 0.9426 - auc_3: 0.9851\n",
      "Epoch 76/100\n",
      "15/15 [==============================] - 6s 367ms/step - loss: 0.1497 - accuracy: 0.9426 - auc_3: 0.9851\n",
      "Epoch 77/100\n",
      "15/15 [==============================] - 6s 373ms/step - loss: 0.1490 - accuracy: 0.9385 - auc_3: 0.9853\n",
      "Epoch 78/100\n",
      "15/15 [==============================] - 6s 373ms/step - loss: 0.1521 - accuracy: 0.9419 - auc_3: 0.9850\n",
      "Epoch 79/100\n",
      "15/15 [==============================] - 6s 374ms/step - loss: 0.1469 - accuracy: 0.9430 - auc_3: 0.9857\n",
      "Epoch 80/100\n",
      "15/15 [==============================] - 6s 368ms/step - loss: 0.1362 - accuracy: 0.9492 - auc_3: 0.9872\n",
      "Epoch 81/100\n",
      "15/15 [==============================] - 6s 369ms/step - loss: 0.1478 - accuracy: 0.9440 - auc_3: 0.9861\n",
      "Epoch 82/100\n",
      "15/15 [==============================] - 5s 366ms/step - loss: 0.1407 - accuracy: 0.9485 - auc_3: 0.9860\n",
      "Epoch 83/100\n",
      "15/15 [==============================] - 5s 364ms/step - loss: 0.1358 - accuracy: 0.9479 - auc_3: 0.9880\n",
      "Epoch 84/100\n",
      "15/15 [==============================] - 5s 366ms/step - loss: 0.1301 - accuracy: 0.9496 - auc_3: 0.9887\n",
      "Epoch 85/100\n",
      "15/15 [==============================] - 6s 378ms/step - loss: 0.1322 - accuracy: 0.9479 - auc_3: 0.9883\n",
      "Epoch 86/100\n",
      "15/15 [==============================] - 6s 371ms/step - loss: 0.1360 - accuracy: 0.9494 - auc_3: 0.9871\n",
      "Epoch 87/100\n",
      "15/15 [==============================] - 6s 369ms/step - loss: 0.1390 - accuracy: 0.9468 - auc_3: 0.9870\n",
      "Epoch 88/100\n",
      "15/15 [==============================] - 6s 368ms/step - loss: 0.1334 - accuracy: 0.9519 - auc_3: 0.9874\n",
      "Epoch 89/100\n",
      "15/15 [==============================] - 6s 373ms/step - loss: 0.1240 - accuracy: 0.9521 - auc_3: 0.9896\n",
      "Epoch 90/100\n",
      "15/15 [==============================] - 6s 376ms/step - loss: 0.1369 - accuracy: 0.9493 - auc_3: 0.9872\n",
      "Epoch 91/100\n",
      "15/15 [==============================] - 6s 375ms/step - loss: 0.1230 - accuracy: 0.9501 - auc_3: 0.9899\n",
      "Epoch 92/100\n",
      "15/15 [==============================] - 5s 366ms/step - loss: 0.1206 - accuracy: 0.9532 - auc_3: 0.9903\n",
      "Epoch 93/100\n",
      "15/15 [==============================] - 5s 364ms/step - loss: 0.1276 - accuracy: 0.9505 - auc_3: 0.9891\n",
      "Epoch 94/100\n",
      "15/15 [==============================] - 5s 361ms/step - loss: 0.1150 - accuracy: 0.9549 - auc_3: 0.9911\n",
      "Epoch 95/100\n",
      "15/15 [==============================] - 6s 367ms/step - loss: 0.1201 - accuracy: 0.9522 - auc_3: 0.9900\n",
      "Epoch 96/100\n",
      "15/15 [==============================] - 6s 368ms/step - loss: 0.1127 - accuracy: 0.9570 - auc_3: 0.9915\n",
      "Epoch 97/100\n",
      "15/15 [==============================] - 6s 377ms/step - loss: 0.1072 - accuracy: 0.9607 - auc_3: 0.9919\n",
      "Epoch 98/100\n",
      "15/15 [==============================] - 5s 366ms/step - loss: 0.1135 - accuracy: 0.9551 - auc_3: 0.9911\n",
      "Epoch 99/100\n",
      "15/15 [==============================] - 6s 375ms/step - loss: 0.1115 - accuracy: 0.9577 - auc_3: 0.9916\n",
      "Epoch 100/100\n",
      "15/15 [==============================] - 6s 367ms/step - loss: 0.1118 - accuracy: 0.9542 - auc_3: 0.9915\n"
     ]
    },
    {
     "data": {
      "text/plain": [
       "<tensorflow.python.keras.callbacks.History at 0x7f4af4bc2c50>"
      ]
     },
     "execution_count": 42,
     "metadata": {
      "tags": []
     },
     "output_type": "execute_result"
    }
   ],
   "source": [
    "model_1.fit(xtrain_pad, y=ytrain, batch_size=512, epochs=100, verbose=1)"
   ]
  },
  {
   "cell_type": "code",
   "execution_count": 43,
   "metadata": {
    "colab": {
     "base_uri": "https://localhost:8080/",
     "height": 202
    },
    "colab_type": "code",
    "id": "YEsvfyLWIWjU",
    "outputId": "02e06072-ba45-4eb0-b44d-d3645e957055"
   },
   "outputs": [
    {
     "data": {
      "text/html": [
       "<div>\n",
       "<style scoped>\n",
       "    .dataframe tbody tr th:only-of-type {\n",
       "        vertical-align: middle;\n",
       "    }\n",
       "\n",
       "    .dataframe tbody tr th {\n",
       "        vertical-align: top;\n",
       "    }\n",
       "\n",
       "    .dataframe thead th {\n",
       "        text-align: right;\n",
       "    }\n",
       "</style>\n",
       "<table border=\"1\" class=\"dataframe\">\n",
       "  <thead>\n",
       "    <tr style=\"text-align: right;\">\n",
       "      <th></th>\n",
       "      <th>id</th>\n",
       "      <th>target</th>\n",
       "    </tr>\n",
       "  </thead>\n",
       "  <tbody>\n",
       "    <tr>\n",
       "      <th>0</th>\n",
       "      <td>0</td>\n",
       "      <td>1</td>\n",
       "    </tr>\n",
       "    <tr>\n",
       "      <th>1</th>\n",
       "      <td>2</td>\n",
       "      <td>1</td>\n",
       "    </tr>\n",
       "    <tr>\n",
       "      <th>2</th>\n",
       "      <td>3</td>\n",
       "      <td>1</td>\n",
       "    </tr>\n",
       "    <tr>\n",
       "      <th>3</th>\n",
       "      <td>9</td>\n",
       "      <td>1</td>\n",
       "    </tr>\n",
       "    <tr>\n",
       "      <th>4</th>\n",
       "      <td>11</td>\n",
       "      <td>1</td>\n",
       "    </tr>\n",
       "  </tbody>\n",
       "</table>\n",
       "</div>"
      ],
      "text/plain": [
       "   id  target\n",
       "0   0       1\n",
       "1   2       1\n",
       "2   3       1\n",
       "3   9       1\n",
       "4  11       1"
      ]
     },
     "execution_count": 43,
     "metadata": {
      "tags": []
     },
     "output_type": "execute_result"
    }
   ],
   "source": [
    "model_1.save(\"model_with_glove_embeddings_full_model_LSTM.h5\")\n",
    "\n",
    "# Submission\n",
    "sample_submission = pd.read_csv(r\"/content/drive/My Drive/Data_disaster_real_tweets/sample_submission.csv\")\n",
    "sample_submission[\"target\"] = model_1.predict_classes(xtest_pad)\n",
    "sample_submission.head()\n"
   ]
  },
  {
   "cell_type": "code",
   "execution_count": 44,
   "metadata": {
    "colab": {},
    "colab_type": "code",
    "id": "Q0EcxX8JJSuL"
   },
   "outputs": [],
   "source": [
    "sample_submission.to_csv(\"submission_full_data_glove_word_vecs_LSTM.csv\", index=False)"
   ]
  },
  {
   "cell_type": "markdown",
   "metadata": {
    "colab_type": "text",
    "id": "UzsosUSZL6E4"
   },
   "source": [
    "0.79252 -> Kaggle Submission"
   ]
  }
 ],
 "metadata": {
  "accelerator": "GPU",
  "colab": {
   "collapsed_sections": [
    "-cb6Arw4Hb1A"
   ],
   "name": "Disaster_tweets_classification_with_glove_emebeddings_DNN.ipynb",
   "provenance": []
  },
  "kernelspec": {
   "display_name": "Python 3",
   "language": "python",
   "name": "python3"
  },
  "language_info": {
   "codemirror_mode": {
    "name": "ipython",
    "version": 3
   },
   "file_extension": ".py",
   "mimetype": "text/x-python",
   "name": "python",
   "nbconvert_exporter": "python",
   "pygments_lexer": "ipython3",
   "version": "3.7.7"
  }
 },
 "nbformat": 4,
 "nbformat_minor": 1
}
