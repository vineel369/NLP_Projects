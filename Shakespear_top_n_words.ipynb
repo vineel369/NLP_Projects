{
 "cells": [
  {
   "cell_type": "code",
   "execution_count": 30,
   "metadata": {},
   "outputs": [],
   "source": [
    "import pandas as pd\n",
    "import string\n",
    "import re\n",
    "from sklearn.feature_extraction.text import CountVectorizer,TfidfVectorizer\n",
    "url = 'https://ocw.mit.edu/ans7870/6/6.006/s08/lecturenotes/files/t8.shakespeare.txt'\n",
    "\n",
    "data = pd.read_csv(url,skiprows = 244,sep = '\\t',names = ['text'])\n",
    "\n",
    "def text_preprocessing(text):\n",
    "    text = text.lower()\n",
    "    text = re.sub('\\[.*?\\]', '', text)\n",
    "    text = re.sub('[%s]' % re.escape(string.punctuation), '', text)  \n",
    "    text = re.sub('\\n', '', text)\n",
    "    text = re.sub('[\\d*]','',text) \n",
    "    return text\n",
    "\n",
    "count_vectorizer = CountVectorizer(token_pattern=r'\\w{1,}',\n",
    "                   stop_words = 'english',preprocessor=text_preprocessing)\n",
    "\n",
    "vectors = count_vectorizer.fit(data['text'])\n",
    "word_vec = vectors.transform(data['text'])\n",
    "\n",
    "words_count = word_vectors.sum(axis=0) \n",
    "words_freq = [(word, words_count[0, idx]) for word, idx in vectors.vocabulary_.items()]\n",
    "words_freq =sorted(words_freq, key = lambda x: x[1], reverse=True)\n",
    "for i in range(5):\n",
    "    print(f'{words_freq[i][0]}')"
   ]
  }
 ],
 "metadata": {
  "kernelspec": {
   "display_name": "Python 3",
   "language": "python",
   "name": "python3"
  },
  "language_info": {
   "codemirror_mode": {
    "name": "ipython",
    "version": 3
   },
   "file_extension": ".py",
   "mimetype": "text/x-python",
   "name": "python",
   "nbconvert_exporter": "python",
   "pygments_lexer": "ipython3",
   "version": "3.7.7"
  }
 },
 "nbformat": 4,
 "nbformat_minor": 4
}
